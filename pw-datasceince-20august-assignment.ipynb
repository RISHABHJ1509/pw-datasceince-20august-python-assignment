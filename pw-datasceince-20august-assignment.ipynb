{
 "cells": [
  {
   "cell_type": "code",
   "execution_count": 1,
   "id": "7b72601a-ddb1-4b29-a688-758b99d0b1f2",
   "metadata": {
    "tags": []
   },
   "outputs": [
    {
     "data": {
      "text/plain": [
       "'hbahsir'"
      ]
     },
     "execution_count": 1,
     "metadata": {},
     "output_type": "execute_result"
    }
   ],
   "source": [
    "  #String Based Assignment Problem\n",
    "''' Q.1 Write a program to reverse a string.'''\n",
    "a = \"rishabh\"\n",
    "a[::-1]# reversing the string using reverse slicing by taking -1 for counting the string"
   ]
  },
  {
   "cell_type": "code",
   "execution_count": 2,
   "id": "e8226d56-7f12-4194-8fc9-abeb1973e950",
   "metadata": {
    "tags": []
   },
   "outputs": [
    {
     "name": "stdin",
     "output_type": "stream",
     "text": [
      "enter your string:  radar\n"
     ]
    },
    {
     "name": "stdout",
     "output_type": "stream",
     "text": [
      "yes\n"
     ]
    }
   ],
   "source": [
    "''' Q.2 . Check if a string is a palindrome.'''\n",
    "a = input('enter your string: ')\n",
    "if a ==a[::-1]:# checking the string if it equal to its reverse string so that we check if it palindrome or not\n",
    "    print(\"yes\")\n",
    "else:\n",
    "    print(\"no\")"
   ]
  },
  {
   "cell_type": "code",
   "execution_count": 3,
   "id": "994a928a-7f2d-4a08-b908-1cce2eee130a",
   "metadata": {
    "tags": []
   },
   "outputs": [
    {
     "name": "stdin",
     "output_type": "stream",
     "text": [
      "enter your string:  rishabh\n"
     ]
    },
    {
     "data": {
      "text/plain": [
       "'RISHABH'"
      ]
     },
     "execution_count": 3,
     "metadata": {},
     "output_type": "execute_result"
    }
   ],
   "source": [
    "''' Q.3 Convert a string to uppercase.'''\n",
    "s = input('enter your string: ')\n",
    "s.upper() # converting string to upercase using upper function"
   ]
  },
  {
   "cell_type": "code",
   "execution_count": 4,
   "id": "c527b26d-ba97-48ad-810c-053cbf704f3b",
   "metadata": {
    "tags": []
   },
   "outputs": [
    {
     "name": "stdin",
     "output_type": "stream",
     "text": [
      "enter your string:  RISHABH\n"
     ]
    },
    {
     "data": {
      "text/plain": [
       "'rishabh'"
      ]
     },
     "execution_count": 4,
     "metadata": {},
     "output_type": "execute_result"
    }
   ],
   "source": [
    "''' Q.4 Convert a string to lowercase.'''\n",
    "s = input('enter your string: ')\n",
    "s.lower() # converting string to lowercase using lower function"
   ]
  },
  {
   "cell_type": "code",
   "execution_count": 5,
   "id": "d91ddad2-22f1-4f11-86db-abb47950ea58",
   "metadata": {
    "tags": []
   },
   "outputs": [
    {
     "name": "stdin",
     "output_type": "stream",
     "text": [
      "enter your string:  rishabh\n"
     ]
    },
    {
     "name": "stdout",
     "output_type": "stream",
     "text": [
      "Number of vowels in your Sentence is:  2\n"
     ]
    }
   ],
   "source": [
    "''' Q.5 Count the number of vowels in a string'''\n",
    "s = input('enter your string: ')\n",
    "vowels = \"aeiouAEIOU\" # specifying the vowels\n",
    "\n",
    "count = sum(s.count(vowel) for vowel in vowels) #counting the vowels\n",
    "print(\"Number of vowels in your Sentence is: \",count)"
   ]
  },
  {
   "cell_type": "code",
   "execution_count": 6,
   "id": "a016f72a-43ea-411c-8479-b40a0aa860ff",
   "metadata": {
    "tags": []
   },
   "outputs": [
    {
     "name": "stdin",
     "output_type": "stream",
     "text": [
      "Enter a string:  rishabh\n"
     ]
    },
    {
     "name": "stdout",
     "output_type": "stream",
     "text": [
      "The number of consonant: 5\n"
     ]
    }
   ],
   "source": [
    "''' Q.6 Count the number of consonants in a string.'''\n",
    "consonants=0\n",
    "\n",
    "# Enter an input string \n",
    "user_input = input(\"Enter a string: \")\n",
    " \n",
    "# convert string in case insensitive\n",
    "string = user_input.lower()\n",
    " \n",
    "for c in range(0,len(string)):  \n",
    "    if string[c] not in (\"aeiou\"):  \n",
    "        consonants = consonants + 1;  \n",
    " \n",
    "print(\"The number of consonant:\",consonants)"
   ]
  },
  {
   "cell_type": "code",
   "execution_count": 7,
   "id": "484290bd-fc37-4306-861d-53c3ebacb148",
   "metadata": {
    "tags": []
   },
   "outputs": [
    {
     "name": "stdin",
     "output_type": "stream",
     "text": [
      "enter your string:  rishabh jaiswal is the best\n"
     ]
    },
    {
     "name": "stdout",
     "output_type": "stream",
     "text": [
      "Your string without spaces is rishabhjaiswalisthebest\n"
     ]
    }
   ],
   "source": [
    "''' Q.7 Remove all whitespaces from a string'''\n",
    "s =input(\"enter your string: \")\n",
    "\n",
    "l = len(s)  # finding length of the string\n",
    "\n",
    "c = s.count(' ')  # counting the number of whitespaces\n",
    "\n",
    "s = s.replace(' ', '')  # replacing the whitespaces\n",
    "\n",
    "s = s[:l - c]  # removing all the whitespaces\n",
    "\n",
    "print(\"Your string without spaces is\", s)"
   ]
  },
  {
   "cell_type": "code",
   "execution_count": 8,
   "id": "e0309e0d-dbca-4ab3-b265-f5e1c333123d",
   "metadata": {
    "tags": []
   },
   "outputs": [
    {
     "name": "stdin",
     "output_type": "stream",
     "text": [
      "enter your string:  rishabh\n"
     ]
    },
    {
     "name": "stdout",
     "output_type": "stream",
     "text": [
      "7\n"
     ]
    }
   ],
   "source": [
    "''' Q.8 Find the length of a string without using the `len()` function.'''\n",
    "string = input(\"enter your string: \")\n",
    "\n",
    "count = 0\n",
    "\n",
    "for g in string: # taking each character of string using for loop\n",
    "    count += 1 # everytimes it takes charater it adds 1 to count\n",
    "print(count) # print count"
   ]
  },
  {
   "cell_type": "code",
   "execution_count": 9,
   "id": "9a20778d-814b-4539-9ed9-e278ebf6e6ef",
   "metadata": {
    "tags": []
   },
   "outputs": [
    {
     "name": "stdout",
     "output_type": "stream",
     "text": [
      "True\n"
     ]
    }
   ],
   "source": [
    "''' Q.9 Check if a string contains a specific word.'''\n",
    "a = (\"pwskills is the best\")\n",
    "print(a.__contains__('the')) # checking if the string contains the word 'the'"
   ]
  },
  {
   "cell_type": "code",
   "execution_count": 10,
   "id": "804975c4-afc4-4914-a29a-ff8e6b4c7a3d",
   "metadata": {
    "tags": []
   },
   "outputs": [
    {
     "name": "stdout",
     "output_type": "stream",
     "text": [
      "rishabh is a bad boy\n"
     ]
    }
   ],
   "source": [
    "#Q.10 Replace a word in a string with another word.\n",
    "a = \"rishabh is a good boy\"\n",
    "print(a.replace(\"good\",\"bad\")) # replacing a word 'good' with 'bad'"
   ]
  },
  {
   "cell_type": "code",
   "execution_count": 12,
   "id": "4d503571-1953-4d93-822f-0245cf2834aa",
   "metadata": {
    "tags": []
   },
   "outputs": [
    {
     "name": "stdin",
     "output_type": "stream",
     "text": [
      "enter your string:  rishabh is the best\n",
      "enter your word to count in the string:  the\n"
     ]
    },
    {
     "name": "stdout",
     "output_type": "stream",
     "text": [
      "number of occurance of your word is:  1\n"
     ]
    }
   ],
   "source": [
    "# Q.11 Count the occurrences of a word in a string\n",
    "s = input(\"enter your string: \") # taking input for string\n",
    "w = input(\"enter your word to count in the string: \") # taking input for the word to count in string\n",
    "wc = s.count(w) # count the word word in string using count function\n",
    "print(\"number of occurance of your word is: \",wc) # print the count"
   ]
  },
  {
   "cell_type": "code",
   "execution_count": 4,
   "id": "0e345d0a-d9e6-43f8-aa73-acd7bfe004b3",
   "metadata": {},
   "outputs": [
    {
     "name": "stdout",
     "output_type": "stream",
     "text": [
      "enter your string:  rishabh is the best\n",
      "enter your word to Find the first occurrence: the\n",
      "first occurrence of a word in your string:  12\n"
     ]
    }
   ],
   "source": [
    "# Q.12 Find the first occurrence of a word in a string\n",
    "s = input(\"enter your string: \") # getting input for string\n",
    "w = input(\"enter your word to Find the first occurrence: \") # input for word to dind\n",
    "wc = s.index(w) # finding the index of first occurence of word  using index fun\n",
    "print(\"first occurrence of a word in your string: \",wc)"
   ]
  },
  {
   "cell_type": "code",
   "execution_count": 5,
   "id": "11944d75-4aae-49e8-be98-de518cdaa177",
   "metadata": {},
   "outputs": [
    {
     "name": "stdout",
     "output_type": "stream",
     "text": [
      "enter your string: rishabh is the best pwskills is the best\n",
      "enter your word to Find the last occurrence: the\n",
      "last occurrence of a word in your string is : 32\n"
     ]
    }
   ],
   "source": [
    "# Q.13  Find the last occurrence of a word in a string\n",
    "s = input(\"enter your string: \")\n",
    "w = input(\"enter your word to Find the last occurrence: \") # getting input of the word to find\n",
    "wc = s.rfind(w) # finding the last occurence of word using rfind fun \n",
    "print(\"last occurrence of a word in your string is :\",wc)"
   ]
  },
  {
   "cell_type": "code",
   "execution_count": 6,
   "id": "f59f4080-a608-497f-b363-c02f9cee919d",
   "metadata": {},
   "outputs": [
    {
     "name": "stdout",
     "output_type": "stream",
     "text": [
      "enter your string: rishabh is the best\n"
     ]
    },
    {
     "data": {
      "text/plain": [
       "['rishabh', 'is', 'the', 'best']"
      ]
     },
     "execution_count": 6,
     "metadata": {},
     "output_type": "execute_result"
    }
   ],
   "source": [
    "# Q.14 Split a string into a list of words.\n",
    "s = input(\"enter your string: \")\n",
    "s.split()# splittiong the word using split fun"
   ]
  },
  {
   "cell_type": "code",
   "execution_count": 24,
   "id": "dac77d6f-b886-4c83-be8d-b3208117d0b4",
   "metadata": {},
   "outputs": [
    {
     "name": "stdout",
     "output_type": "stream",
     "text": [
      "Hello world ! This is Python\n"
     ]
    }
   ],
   "source": [
    "# Q.15 Join a list of words into a string.\n",
    "list_1 = ['Hello', 'world', '!', 'This', 'is', 'Python'] \n",
    "\n",
    "separator = ' ' \n",
    "\n",
    "result = separator.join(list_1) # join the list of words using join fun by defining separtor\n",
    "\n",
    "print(result)"
   ]
  },
  {
   "cell_type": "code",
   "execution_count": 18,
   "id": "f6a97eac-d239-44e6-a6f3-ea4f86b0c5bd",
   "metadata": {},
   "outputs": [
    {
     "name": "stdout",
     "output_type": "stream",
     "text": [
      "rishabh  is  a  good  boy\n",
      "rishabh_is_a_good_boy\n"
     ]
    }
   ],
   "source": [
    " ''' Q.16 Convert a string where words are separated by spaces to one where words\n",
    "are separated by underscores.'''\n",
    "s =\"rishabh is a good boy\"\n",
    "print(s.replace(\" \",\"  \"))# replacing a single space with double\n",
    "s =\"rishabh is a good boy\"\n",
    "print(s.replace(\" \",\"_\"))# replacing a single space with underscore"
   ]
  },
  {
   "cell_type": "code",
   "execution_count": 19,
   "id": "950e302a-66b8-4ca8-b1b8-776672bd7971",
   "metadata": {},
   "outputs": [
    {
     "data": {
      "text/plain": [
       "False"
      ]
     },
     "execution_count": 19,
     "metadata": {},
     "output_type": "execute_result"
    }
   ],
   "source": [
    "# Q.17 Check if a string starts with a specific word or phrase\n",
    "s =\"rishabh is a good boy\"\n",
    "s.startswith(\"boy\") # checking if string starts with boy "
   ]
  },
  {
   "cell_type": "code",
   "execution_count": 20,
   "id": "4813dc50-a012-4499-aadd-83478f30c3f6",
   "metadata": {},
   "outputs": [
    {
     "data": {
      "text/plain": [
       "True"
      ]
     },
     "execution_count": 20,
     "metadata": {},
     "output_type": "execute_result"
    }
   ],
   "source": [
    "# Q.18 . Check if a string ends with a specific word or phrase\n",
    "s =\"rishabh is a good boy\"\n",
    "s.endswith(\"boy\")# checking if string ends with boy"
   ]
  },
  {
   "cell_type": "code",
   "execution_count": 21,
   "id": "ae6ce4ae-2f6b-4801-be04-82c44f3e66cc",
   "metadata": {},
   "outputs": [
    {
     "data": {
      "text/plain": [
       "'Hello World'"
      ]
     },
     "execution_count": 21,
     "metadata": {},
     "output_type": "execute_result"
    }
   ],
   "source": [
    "# Q.19 Convert a string to title case\n",
    "s = \"hello world\"\n",
    "s.title() # converting using title fun"
   ]
  },
  {
   "cell_type": "code",
   "execution_count": 22,
   "id": "d889ab3c-b962-47ad-b63d-794090923ff9",
   "metadata": {},
   "outputs": [
    {
     "name": "stdout",
     "output_type": "stream",
     "text": [
      "enter your string: pwskills is best for data science\n",
      "longest word in your string is:  pwskills\n"
     ]
    }
   ],
   "source": [
    "# Q.20 . Find the longest word in a string.\n",
    "s = input(\"enter your string: \")\n",
    "word_list =s.split() # splliting the words\n",
    "longest_word =max(word_list,key=len) # finding the longest string using max fun\n",
    "print(\"longest word in your string is: \",longest_word)"
   ]
  },
  {
   "cell_type": "code",
   "execution_count": 25,
   "id": "6350b337-245a-4ce5-b68e-e3fd05ef0411",
   "metadata": {},
   "outputs": [
    {
     "name": "stdout",
     "output_type": "stream",
     "text": [
      "enter your string: rishabh is the best\n",
      "longest word in your string is:  is\n"
     ]
    }
   ],
   "source": [
    "# Q.21 . Find the shortest word in a string\n",
    "s = input(\"enter your string: \")\n",
    "word_list =s.split()\n",
    "shortest_word =min(word_list,key=len) # finding the longest string using min fun\n",
    "print(\"longest word in your string is: \",shortest_word)"
   ]
  },
  {
   "cell_type": "code",
   "execution_count": 26,
   "id": "8fa4e7df-e232-4714-b49f-6b8c662c7b28",
   "metadata": {},
   "outputs": [
    {
     "name": "stdout",
     "output_type": "stream",
     "text": [
      "enter your string: rishabh is the best\n",
      "['best', 'the', 'is', 'rishabh']\n"
     ]
    }
   ],
   "source": [
    "#Q 22. Reverse the order of words in a string\n",
    "s = input(\"enter your string: \")\n",
    "a = s.split()\n",
    "print(a[::-1]) #reversing the order using -1 sequence"
   ]
  },
  {
   "cell_type": "code",
   "execution_count": null,
   "id": "34a56d98-e7cb-4200-b620-ee92578b8d43",
   "metadata": {},
   "outputs": [],
   "source": [
    "# Q.23 Check if a string is alphanumeric.\n",
    "s = input(\"enter your string: \")\n",
    "print(s.isalnum())"
   ]
  },
  {
   "cell_type": "code",
   "execution_count": 27,
   "id": "ed631b79-988c-4c77-b481-4ba4eaa9ba70",
   "metadata": {},
   "outputs": [
    {
     "name": "stdout",
     "output_type": "stream",
     "text": [
      "enter you stringrishabh 1509\n",
      "1\n",
      "5\n",
      "0\n",
      "9\n"
     ]
    }
   ],
   "source": [
    "# 24. Extract all digits from a string.\n",
    "s = input(\"enter you string\")\n",
    "for i in s:\n",
    "    if i.isnumeric() :\n",
    "        print(i)"
   ]
  },
  {
   "cell_type": "code",
   "execution_count": 29,
   "id": "242d32b2-3637-4786-8cd5-a6b4f4d573c8",
   "metadata": {},
   "outputs": [
    {
     "name": "stdout",
     "output_type": "stream",
     "text": [
      "enter you stringrishabh is the best 15\n",
      "r\n",
      "i\n",
      "s\n",
      "h\n",
      "a\n",
      "b\n",
      "h\n",
      "i\n",
      "s\n",
      "t\n",
      "h\n",
      "e\n",
      "b\n",
      "e\n",
      "s\n",
      "t\n"
     ]
    }
   ],
   "source": [
    "#25. Extract all alphabets from a string.\n",
    "s = input(\"enter you string\")\n",
    "for i in s:\n",
    "    if i.isalpha():\n",
    "        print(i)"
   ]
  },
  {
   "cell_type": "code",
   "execution_count": 34,
   "id": "ccbdbfff-2cf4-4c1a-8b52-37ce726d9910",
   "metadata": {},
   "outputs": [
    {
     "name": "stdout",
     "output_type": "stream",
     "text": [
      "enter you stringRISHabh\n",
      "R\n",
      "I\n",
      "S\n",
      "H\n",
      "count : 4\n"
     ]
    }
   ],
   "source": [
    "# 26. Count the number of uppercase letters in a string.\n",
    "s = input(\"enter you string\")\n",
    "count = 0\n",
    "for i in s:\n",
    "    if i.isupper():\n",
    "        print(i)\n",
    "        count += 1\n",
    "print('count :',count)"
   ]
  },
  {
   "cell_type": "code",
   "execution_count": 36,
   "id": "1e30185d-c5fa-40a4-b441-54c9ce0964d8",
   "metadata": {},
   "outputs": [
    {
     "name": "stdout",
     "output_type": "stream",
     "text": [
      "enter you stringRishABH\n",
      "i\n",
      "s\n",
      "h\n",
      "count : 3\n"
     ]
    }
   ],
   "source": [
    "#27. Count the number of lowercase letters in a string.\n",
    "s = input(\"enter you string\")\n",
    "count = 0\n",
    "for i in s:\n",
    "    if i.islower():\n",
    "        print(i)\n",
    "        count += 1\n",
    "print('count :',count)"
   ]
  },
  {
   "cell_type": "code",
   "execution_count": 37,
   "id": "35883b3b-f837-447e-9378-27e6e69c2054",
   "metadata": {},
   "outputs": [
    {
     "name": "stdout",
     "output_type": "stream",
     "text": [
      "enter you stringrishaBH\n",
      "R\n",
      "I\n",
      "S\n",
      "H\n",
      "A\n",
      "b\n",
      "h\n"
     ]
    }
   ],
   "source": [
    "# 28. Swap the case of each character in a string.\n",
    "s = input(\"enter you string\")\n",
    "for i in s:\n",
    "    if i.isupper():\n",
    "        print(i.lower())\n",
    "    elif i.lower():\n",
    "        print(i.upper())"
   ]
  },
  {
   "cell_type": "code",
   "execution_count": 39,
   "id": "55aea2ee-8015-44c5-8d09-de8b74035c2b",
   "metadata": {},
   "outputs": [
    {
     "name": "stdout",
     "output_type": "stream",
     "text": [
      "pwskils is  best\n"
     ]
    }
   ],
   "source": [
    "#29. Remove a specific word from a string.\n",
    "s = \"pwskils is the best\"\n",
    "a = s.replace(\"the\",\"\")\n",
    "print(a)"
   ]
  },
  {
   "cell_type": "code",
   "execution_count": 41,
   "id": "34ae6ad1-8e22-4b48-9c18-46f6ceefa524",
   "metadata": {},
   "outputs": [
    {
     "name": "stdout",
     "output_type": "stream",
     "text": [
      "enter yor emailjaiswalrishabh1509@gmail.com\n",
      "Valid email\n"
     ]
    }
   ],
   "source": [
    "# 30. Check if a string is a valid email address\n",
    "import re # importing re\n",
    "\n",
    "regex = re.compile(r'([A-Za-z0-9]+[.-_])*[A-Za-z0-9]+@[A-Za-z0-9-]+(\\.[A-Z|a-z]{2,})+') #specifying the email address\n",
    "email = input(\"enter yor email: \") # geting input of email address\n",
    "\n",
    "def isValid(email):# making a function isvalid \n",
    "    if re.fullmatch(regex, email): # if input email matches the specified parameters of emails then its a valid email\n",
    "      print(\"Valid email\")# printing valid email if email is valid\n",
    "    else:\n",
    "      print(\"Invalid email\") # if email is not valid\n",
    "\n",
    "isValid(email)"
   ]
  },
  {
   "cell_type": "code",
   "execution_count": 42,
   "id": "83b81635-53bf-4c39-8590-6b394e4f663a",
   "metadata": {},
   "outputs": [
    {
     "name": "stdout",
     "output_type": "stream",
     "text": [
      "enter emailjaiswalrishabh1509@gmail.com\n",
      "jaiswalrishabh1509\n"
     ]
    }
   ],
   "source": [
    "# 31. Extract the username from an email address string.\n",
    "a = input(\"enter email\")\n",
    "b = a.split('@')# spliting the user name from @\n",
    "print(b[0]) # printing the username"
   ]
  },
  {
   "cell_type": "code",
   "execution_count": 44,
   "id": "0974f435-5c93-4619-89f0-80eece1f879d",
   "metadata": {},
   "outputs": [
    {
     "name": "stdout",
     "output_type": "stream",
     "text": [
      "enter emailjaiswalrishabh1509@gmail.com\n",
      "gmail.com\n"
     ]
    }
   ],
   "source": [
    "# 32. Extract the domain name from an email address string.\n",
    "a = input(\"enter email\")\n",
    "b = a.split('@')# spliting the user name from @\n",
    "print(b[1]) # printing the domain name"
   ]
  },
  {
   "cell_type": "code",
   "execution_count": 50,
   "id": "194491bc-3e22-46f0-95c6-0cdaa7aaa590",
   "metadata": {},
   "outputs": [
    {
     "name": "stdout",
     "output_type": "stream",
     "text": [
      "rishabh is a goood boy\n"
     ]
    }
   ],
   "source": [
    "#33. Replace multiple spaces in a string with a single space.\n",
    "a = \"rishabh    is    a    goood    boy\"\n",
    "print(a.replace(\"    \",\" \"))"
   ]
  },
  {
   "cell_type": "code",
   "execution_count": 56,
   "id": "3fec33c5-939b-481b-b36b-12f5171159ea",
   "metadata": {},
   "outputs": [],
   "source": [
    "# 34. Check if a string is a valid URL.\n",
    "!pip install validators # install validators\n",
    "import validators\n",
    "a = 'https://www.youtube.com/'\n",
    "if validators.url(a): # checking the url is correct or not\n",
    "    print(\"valid URl\")\n",
    "else:\n",
    "    print(\"invalid url\")\n"
   ]
  },
  {
   "cell_type": "code",
   "execution_count": 58,
   "id": "fe3fdf59-581c-4f58-9cd5-fb13ba103be3",
   "metadata": {},
   "outputs": [
    {
     "name": "stdout",
     "output_type": "stream",
     "text": [
      "http\n"
     ]
    }
   ],
   "source": [
    "#35. Extract the protocol (http or https) from a URL string.\n",
    "a = \"http://example.com\"\n",
    "b = a.split(':')\n",
    "print(b[0])"
   ]
  },
  {
   "cell_type": "code",
   "execution_count": 59,
   "id": "d1cb3dc2-ff9e-43ea-8f7f-9fddf27a44f5",
   "metadata": {},
   "outputs": [
    {
     "name": "stdout",
     "output_type": "stream",
     "text": [
      "enter a sringrishabh jaiswal\n",
      "frequency of each character is :\n",
      " {'r': 1, 'i': 2, 's': 2, 'h': 2, 'a': 3, 'b': 1, ' ': 1, 'j': 1, 'w': 1, 'l': 1}\n"
     ]
    }
   ],
   "source": [
    "#36. Find the frequency of each character in a string.\n",
    "a = input(\"enter a sring\") # getting input for the string\n",
    "b = {} # making a blank dict\n",
    "for i in a: # running  a for loop in string\n",
    "    if i in b:\n",
    "        b[i] +=1 # storing the character and their frquency\n",
    "\n",
    "    else:\n",
    "        b[i] = 1\n",
    "print(\"frequency of each character is :\\n\",b)"
   ]
  },
  {
   "cell_type": "code",
   "execution_count": 62,
   "id": "b82ffa2f-0cbf-4ad9-940b-3d4fd1117207",
   "metadata": {},
   "outputs": [
    {
     "name": "stdout",
     "output_type": "stream",
     "text": [
      "r\n",
      "i\n",
      "s\n",
      "h\n",
      "a\n",
      "b\n",
      "h\n",
      "i\n",
      "s\n",
      "a\n",
      "g\n",
      "o\n",
      "o\n",
      "d\n",
      " \n",
      "b\n",
      "o\n",
      "y\n"
     ]
    }
   ],
   "source": [
    "#37. Remove all punctuation from a string.\n",
    "a = \"rishabh,is?a/good\\ boy\"\n",
    "b = (\"!,/,?,\\,@,#,*\") # specifying the puctuation\n",
    "for i  in a: # running a for loop\n",
    "    if i not in b: \n",
    "        print(i)"
   ]
  },
  {
   "cell_type": "code",
   "execution_count": 64,
   "id": "e6f3e528-e2ac-432c-a665-adbfc353cee0",
   "metadata": {},
   "outputs": [
    {
     "name": "stdout",
     "output_type": "stream",
     "text": [
      "enter your string86453rishabh\n",
      "false\n"
     ]
    }
   ],
   "source": [
    "#38. Check if a string contains only digits\n",
    "a = input(\"enter your string\")\n",
    "if a.isnumeric():\n",
    "    print(\"true\")\n",
    "else:\n",
    "    print(\"false\")"
   ]
  },
  {
   "cell_type": "code",
   "execution_count": 66,
   "id": "7c1afcf1-d9d8-4f3e-bb2a-7bfaa10d11e1",
   "metadata": {},
   "outputs": [
    {
     "name": "stdout",
     "output_type": "stream",
     "text": [
      "enter your string86453rishabh\n",
      "false\n"
     ]
    }
   ],
   "source": [
    "#39. Check if a string contains only alphabets.\n",
    "a = input(\"enter your string\")\n",
    "if a.isalpha():\n",
    "    print(\"true\")\n",
    "else:\n",
    "    print(\"false\")"
   ]
  },
  {
   "cell_type": "code",
   "execution_count": 68,
   "id": "c5787742-3693-4b79-8cdd-f887067ebd89",
   "metadata": {},
   "outputs": [
    {
     "name": "stdout",
     "output_type": "stream",
     "text": [
      "enter your stringrishabh jaiswal\n",
      "['r', 'i', 's', 'h', 'a', 'b', 'h', ' ', 'j', 'a', 'i', 's', 'w', 'a', 'l']\n"
     ]
    }
   ],
   "source": [
    "#40. Convert a string to a list of characters.\n",
    "a = input(\"enter your string\")\n",
    "lst = []\n",
    "\n",
    "for letter in a:\n",
    "    lst.append(letter)\n",
    "\n",
    "print(lst)"
   ]
  },
  {
   "cell_type": "code",
   "execution_count": 69,
   "id": "dbba90af-10b1-4c10-aade-4dc4540a65ee",
   "metadata": {},
   "outputs": [
    {
     "name": "stdout",
     "output_type": "stream",
     "text": [
      "anagram\n"
     ]
    }
   ],
   "source": [
    "# 41. Check if two strings are anagrams.\n",
    "a = 'rishabh'\n",
    "b = 'hbahsir'\n",
    "c = list(a)#converitng it to a list\n",
    "d = list(b)\n",
    "if c.sort()==d.sort(): # checking if the string are anagram using sort fun \n",
    "    print(\"anagram\")\n",
    "else:\n",
    "    print(\"not anagram\")"
   ]
  },
  {
   "cell_type": "code",
   "execution_count": 73,
   "id": "ed31f3d4-779c-4075-9274-7afe574cddf0",
   "metadata": {},
   "outputs": [
    {
     "name": "stdout",
     "output_type": "stream",
     "text": [
      "Plain text: HELLO WORLD\n",
      "Encrypted text: KHOOR ZRUOG\n"
     ]
    }
   ],
   "source": [
    "#42. Encode a string using a Caesar cipher.\n",
    "shift = 3 # defining the shift count\n",
    "text = \"HELLO WORLD\"\n",
    "encryption = \"\"\n",
    "for c in text:\n",
    "    # check if character is an uppercase letter\n",
    "    if c.isupper():\n",
    "\n",
    "        # find the position in 0-25\n",
    "        c_unicode = ord(c)\n",
    "\n",
    "        c_index = ord(c) - ord(\"A\")\n",
    "\n",
    "        # perform the shift\n",
    "        new_index = (c_index + shift) % 26\n",
    "\n",
    "        # convert to new character\n",
    "        new_unicode = new_index + ord(\"A\")\n",
    "\n",
    "        new_character = chr(new_unicode)\n",
    "\n",
    "        # append to encrypted string\n",
    "        encryption = encryption + new_character\n",
    "\n",
    "    else:\n",
    "\n",
    "        # since character is not uppercase, leave it as it is\n",
    "        encryption += c\n",
    "        \n",
    "print(\"Plain text:\",text)\n",
    "\n",
    "print(\"Encrypted text:\",encryption)"
   ]
  },
  {
   "cell_type": "code",
   "execution_count": 74,
   "id": "c23db022-4d4c-4762-8b79-e3f8983fa49a",
   "metadata": {},
   "outputs": [
    {
     "name": "stdout",
     "output_type": "stream",
     "text": [
      "Encrypted text: KHOOR ZRUOG\n",
      "Decrypted text: HELLO WORLD\n"
     ]
    }
   ],
   "source": [
    "#43. Decode a Caesar cipher encoded string.\n",
    "shift = 3 # defining the shift count\n",
    "encrypted_text = \"KHOOR ZRUOG\"\n",
    "plain_text = \"\"\n",
    "for c in encrypted_text:\n",
    "\n",
    "    # check if character is an uppercase letter\n",
    "    if c.isupper():\n",
    "\n",
    "        # find the position in 0-25\n",
    "        c_unicode = ord(c)\n",
    "\n",
    "        c_index = ord(c) - ord(\"A\")\n",
    "\n",
    "        # perform the negative shift\n",
    "        new_index = (c_index - shift) % 26\n",
    "\n",
    "        # convert to new character\n",
    "        new_unicode = new_index + ord(\"A\")\n",
    "\n",
    "        new_character = chr(new_unicode)\n",
    "\n",
    "        # append to plain string\n",
    "        plain_text = plain_text + new_character\n",
    "\n",
    "    else:\n",
    "\n",
    "        # since character is not uppercase, leave it as it is\n",
    "        plain_text += c\n",
    "\n",
    "print(\"Encrypted text:\",encrypted_text)\n",
    "\n",
    "print(\"Decrypted text:\",plain_text)"
   ]
  },
  {
   "cell_type": "code",
   "execution_count": 75,
   "id": "cf508bee-b808-4767-827b-ac7ea93bf886",
   "metadata": {},
   "outputs": [
    {
     "name": "stdout",
     "output_type": "stream",
     "text": [
      "on\n"
     ]
    }
   ],
   "source": [
    "#44. Find the most frequent word in a string.\n",
    "text = \"on the rocks on the high on\"\n",
    "a = text.split() # get word list\n",
    "afreq = [] #to store word count\n",
    "for i in a: #for each word\n",
    "    count = a.count(i) # find word count\n",
    "    afreq.append(count) #store count\n",
    "\n",
    "# find index of maximum frequencu\n",
    "aindex = afreq.index(max(afreq))\n",
    "# get most frequent word\n",
    "mfword = a[aindex]\n",
    "print(mfword)"
   ]
  },
  {
   "cell_type": "code",
   "execution_count": 76,
   "id": "1ffd8261-6f55-4c83-85b9-a805fbd08d4d",
   "metadata": {},
   "outputs": [
    {
     "name": "stdout",
     "output_type": "stream",
     "text": [
      "rocks\n",
      "high\n"
     ]
    }
   ],
   "source": [
    "# 45. Find all the unique words in a string\n",
    "text  = \"on the rocks on the high on\"\n",
    "a = text.split()\n",
    "for i in a:\n",
    "    count = a.count(i) # counting the words in string\n",
    "    if count== 1: # if the word count is 1 it is unique\n",
    "        print(i)"
   ]
  },
  {
   "cell_type": "code",
   "execution_count": 78,
   "id": "bbf5edce-faaa-49af-b7b0-28fa059158bb",
   "metadata": {},
   "outputs": [
    {
     "name": "stdout",
     "output_type": "stream",
     "text": [
      "Enter the word:rishabh\n",
      "The number of syllables in the word is: \n",
      "2\n"
     ]
    }
   ],
   "source": [
    "#46. Count the number of syllables in a string\n",
    "word = input(\"Enter the word:\")\n",
    "word.lower()\n",
    "syllable_count = 0\n",
    "for w in word:\n",
    "    if (              # specifying the sylables\n",
    "        w == \"a\"\n",
    "        or w == \"e\"\n",
    "        or w == \"i\"\n",
    "        or w == \"o\"\n",
    "        or w == \"u\"\n",
    "    ):\n",
    "        syllable_count = syllable_count + 1\n",
    "print(\"The number of syllables in the word is: \")\n",
    "print(syllable_count)"
   ]
  },
  {
   "cell_type": "code",
   "execution_count": 79,
   "id": "7c3daffa-2f86-4472-9d9e-67e9fa3a88ec",
   "metadata": {},
   "outputs": [
    {
     "name": "stdout",
     "output_type": "stream",
     "text": [
      "no\n"
     ]
    }
   ],
   "source": [
    "# 47. Check if a string contains any special characters.\n",
    "\n",
    "special_characters = \"!@#$%^&*()-+?_=,<>/\" #specifying the speacil characters\n",
    "s=\"on the rocks on the high on\"\n",
    "\n",
    "if any(c in special_characters for c in s): # if the input string contains any special charaters\n",
    "    print(\"yes\")\n",
    "else:\n",
    "    print(\"no\")"
   ]
  },
  {
   "cell_type": "code",
   "execution_count": 80,
   "id": "1daa5798-d584-450e-8ff0-8105d2533b01",
   "metadata": {},
   "outputs": [
    {
     "name": "stdout",
     "output_type": "stream",
     "text": [
      "['pwskills', 'is', 'the', 'best', 'pwskills', 'is', 'the', 'best']\n"
     ]
    }
   ],
   "source": [
    "#48. Remove the nth word from a string.\n",
    "a = 'pwskills is the best pwskills is the best pwskills'\n",
    "b = a.split()\n",
    "del(b[8])\n",
    "print(b)"
   ]
  },
  {
   "cell_type": "code",
   "execution_count": 81,
   "id": "ccfe4f3e-6804-4f08-9afd-05f848065b61",
   "metadata": {},
   "outputs": [
    {
     "name": "stdout",
     "output_type": "stream",
     "text": [
      "['pwskills', 'is', 'the', 'best', 'pwskills', 'is', 'the', 'best', 'hello', 'pwskills']\n"
     ]
    }
   ],
   "source": [
    "#49. Insert a word at the nth position in a string.\n",
    "a = 'pwskills is the best pwskills is the best pwskills'\n",
    "b = a.split()\n",
    "b.insert(8,'hello')\n",
    "print(b)"
   ]
  },
  {
   "cell_type": "code",
   "execution_count": 85,
   "id": "7ba90860-02b8-4514-a2a3-573e7c82882c",
   "metadata": {},
   "outputs": [],
   "source": [
    "#50. Convert a CSV string to a list of lists.\n",
    "import csv\n",
    "\n",
    "with open('sample.csv', 'r') as read_obj:\n",
    "#     Return a reader object which will\n",
    "#     iterate over lines in the given csvfile\n",
    "    csv_reader = csv.reader(read_obj)\n",
    "#\n",
    "#     convert string to list\n",
    "    list_of_csv = list(csv_reader)\n",
    "#\n",
    "    print(list_of_csv)\n",
    "\n"
   ]
  },
  {
   "cell_type": "code",
   "execution_count": 86,
   "id": "fdb428a2-a01b-40da-9c00-da9748ab8dfb",
   "metadata": {},
   "outputs": [
    {
     "name": "stdout",
     "output_type": "stream",
     "text": [
      "[1, 2, 3, 4, 5, 6, 7, 8, 9, 10]\n"
     ]
    }
   ],
   "source": [
    "# List Based Practice Problem :\n",
    "\n",
    "\n",
    "# 1. Create a list with integers from 1 to 10.\n",
    "a = [1,2,3,4,5,6,7,8,9,10]\n",
    "print(a)"
   ]
  },
  {
   "cell_type": "code",
   "execution_count": 87,
   "id": "82efde27-3704-491c-b8be-a1298edb65ce",
   "metadata": {},
   "outputs": [
    {
     "name": "stdout",
     "output_type": "stream",
     "text": [
      "10\n"
     ]
    }
   ],
   "source": [
    "# 2. Find the length of a list without using the `len()` function.\n",
    "a = [1,2,3,4,5,6,7,8,9,10]\n",
    "count = 0\n",
    "for i in a:\n",
    "    count += 1\n",
    "print(count)"
   ]
  },
  {
   "cell_type": "code",
   "execution_count": 88,
   "id": "4eb0dc21-8512-4484-a215-75ceeef03e4e",
   "metadata": {},
   "outputs": [
    {
     "name": "stdout",
     "output_type": "stream",
     "text": [
      "[1, 2, 3, 4, 5, 6, 7, 8, 9, 10, 11]\n"
     ]
    }
   ],
   "source": [
    "# 3. Append an element to the end of a list.\n",
    "a = [1,2,3,4,5,6,7,8,9,10]\n",
    "a.append(11)#adding a element using append fun\n",
    "print(a)"
   ]
  },
  {
   "cell_type": "code",
   "execution_count": null,
   "id": "8c1c634d-68ef-446e-af88-b6321cfe7b9f",
   "metadata": {},
   "outputs": [],
   "source": [
    "# 4. Insert an element at a specific index in a list\n",
    "a = [1,2,3,4,5,6,7,8,9,10]\n",
    "a.insert(11,12) # inserting a element at a specific index \n",
    "print(a)"
   ]
  },
  {
   "cell_type": "code",
   "execution_count": 89,
   "id": "92ea09bb-5ef7-4f4f-8a72-97a2f6f9a60a",
   "metadata": {},
   "outputs": [
    {
     "name": "stdout",
     "output_type": "stream",
     "text": [
      "[1, 2, 3, 4, 5, 6, 7, 9, 10]\n"
     ]
    }
   ],
   "source": [
    "# 5. Remove an element from a list by its value.\n",
    "a = [1,2,3,4,5,6,7,8,9,10]\n",
    "a.remove(8)\n",
    "print(a)"
   ]
  },
  {
   "cell_type": "code",
   "execution_count": 90,
   "id": "0e3fb0c0-b45d-46a8-939b-37492f618e92",
   "metadata": {},
   "outputs": [
    {
     "name": "stdout",
     "output_type": "stream",
     "text": [
      "[1, 2, 3, 4, 6, 7, 8, 9, 10]\n"
     ]
    }
   ],
   "source": [
    "# 6. Remove an element from a list by its index.\n",
    "a = [1,2,3,4,5,6,7,8,9,10]\n",
    "a.pop(4)\n",
    "print(a)"
   ]
  },
  {
   "cell_type": "code",
   "execution_count": 91,
   "id": "2c0f48a7-ddb1-487a-819b-cd69d034f7a6",
   "metadata": {},
   "outputs": [
    {
     "name": "stdout",
     "output_type": "stream",
     "text": [
      "True\n",
      "True\n"
     ]
    }
   ],
   "source": [
    "# 7. Check if an element exists in a list.\n",
    "a = [1,2,3,4,5,6,7,8,9,10]\n",
    "print(5 in a)\n",
    "print(a.__contains__(6))"
   ]
  },
  {
   "cell_type": "code",
   "execution_count": 92,
   "id": "bac0ae6c-0b3e-45d9-b711-93b6a7c4ae69",
   "metadata": {},
   "outputs": [
    {
     "name": "stdout",
     "output_type": "stream",
     "text": [
      "4\n"
     ]
    }
   ],
   "source": [
    "# 8. Find the index of the first occurrence of an element in a list.\n",
    "a = [1,2,3,4,5,6,7,8,9,10]\n",
    "print(a.index(5))"
   ]
  },
  {
   "cell_type": "code",
   "execution_count": 93,
   "id": "f14380f5-67c8-4bd1-b85e-4e7f9848fc11",
   "metadata": {},
   "outputs": [
    {
     "name": "stdout",
     "output_type": "stream",
     "text": [
      "1\n"
     ]
    }
   ],
   "source": [
    "# 9. Count the occurrences of an element in a list.\n",
    "a = [1,2,3,4,5,6,7,8,9,10]\n",
    "print(a.count(5))"
   ]
  },
  {
   "cell_type": "code",
   "execution_count": 94,
   "id": "a279424a-c1c8-4cbd-b685-37b682806d10",
   "metadata": {},
   "outputs": [
    {
     "name": "stdout",
     "output_type": "stream",
     "text": [
      "[10, 9, 8, 7, 6, 5, 4, 3, 2, 1]\n"
     ]
    }
   ],
   "source": [
    "# 10. Reverse the order of elements in a list.\n",
    "a = [1,2,3,4,5,6,7,8,9,10]\n",
    "a.reverse()\n",
    "print(a)"
   ]
  },
  {
   "cell_type": "code",
   "execution_count": 95,
   "id": "e20a7547-74de-48a3-b154-96519393ebcc",
   "metadata": {},
   "outputs": [
    {
     "name": "stdout",
     "output_type": "stream",
     "text": [
      "[2, 5, 5, 65, 65, 65]\n"
     ]
    }
   ],
   "source": [
    "# 11. Sort a list in ascending order.\n",
    "a = [65,5,65,5,2,65]\n",
    "a.sort()\n",
    "print(a)"
   ]
  },
  {
   "cell_type": "code",
   "execution_count": 96,
   "id": "1cf0e119-8f40-4dec-8049-9fe803e6b062",
   "metadata": {},
   "outputs": [
    {
     "name": "stdout",
     "output_type": "stream",
     "text": [
      "[10, 9, 8, 7, 6, 5, 4, 3, 2, 1]\n"
     ]
    }
   ],
   "source": [
    "# 12. Sort a list in descending order.\n",
    "a = [1,2,3,4,5,6,7,8,9,10]\n",
    "a.sort(reverse=-1)\n",
    "print(a)"
   ]
  },
  {
   "cell_type": "code",
   "execution_count": 97,
   "id": "02fc6665-eda9-4cbc-91e4-4cd79b04fa7e",
   "metadata": {},
   "outputs": [
    {
     "name": "stdout",
     "output_type": "stream",
     "text": [
      "[2, 4, 6, 8, 10, 12, 14, 16, 18, 20]\n"
     ]
    }
   ],
   "source": [
    "# 13. Create a list of even numbers from 1 to 20.\n",
    "a = []\n",
    "for i in range(1,21):\n",
    "    if i%2==0:\n",
    "        a.append(i)\n",
    "\n",
    "print(a)"
   ]
  },
  {
   "cell_type": "code",
   "execution_count": 98,
   "id": "edd4e339-a5ce-4191-9577-d4a83ecd703e",
   "metadata": {},
   "outputs": [
    {
     "name": "stdout",
     "output_type": "stream",
     "text": [
      "[1, 3, 5, 7, 9, 11, 13, 15, 17, 19]\n"
     ]
    }
   ],
   "source": [
    "# 14. Create a list of odd numbers from 1 to 20.\n",
    "a = []\n",
    "for i in range(1,21):\n",
    "    if i%2 != 0:\n",
    "        a.append(i)\n",
    "\n",
    "print(a)"
   ]
  },
  {
   "cell_type": "code",
   "execution_count": 99,
   "id": "36659ffd-dfbb-4418-bb54-dad2c2cd2d64",
   "metadata": {},
   "outputs": [
    {
     "name": "stdout",
     "output_type": "stream",
     "text": [
      "55\n"
     ]
    }
   ],
   "source": [
    "# # 15. Find the sum of all elements in a list.\n",
    "a = [1,2,3,4,5,6,7,8,9,10]\n",
    "total = 0\n",
    "for i in a: # running a for loop \n",
    "    total = total + i # adding each item to total\n",
    "print(total)"
   ]
  },
  {
   "cell_type": "code",
   "execution_count": 100,
   "id": "d42ae4dc-f7a3-458b-8e7b-0cc8f7499f5a",
   "metadata": {},
   "outputs": [
    {
     "name": "stdout",
     "output_type": "stream",
     "text": [
      "10\n"
     ]
    }
   ],
   "source": [
    "# 16. Find the maximum value in a list.\n",
    "a = [1,2,3,4,5,6,7,8,9,10]\n",
    "print(max(a))"
   ]
  },
  {
   "cell_type": "code",
   "execution_count": 101,
   "id": "e794f4a8-be05-48e7-9a31-6a8b9335b3d1",
   "metadata": {},
   "outputs": [
    {
     "name": "stdout",
     "output_type": "stream",
     "text": [
      "1\n"
     ]
    }
   ],
   "source": [
    "# 17. Find the minimum value in a list.\n",
    "a = [1,2,3,4,5,6,7,8,9,10]\n",
    "print(min(a))"
   ]
  },
  {
   "cell_type": "code",
   "execution_count": 102,
   "id": "9ffde0ad-cc5a-4aaa-96c8-5dc8fddef4c8",
   "metadata": {},
   "outputs": [
    {
     "name": "stdout",
     "output_type": "stream",
     "text": [
      "[1, 4, 9, 16, 25, 36, 49, 64, 81, 100]\n"
     ]
    }
   ],
   "source": [
    "# 18. Create a list of squares of numbers from 1 to 10.\n",
    "square = []\n",
    "for i in range(1,11):\n",
    "    a = i*i\n",
    "    square.append(a)\n",
    "    a += 1\n",
    "\n",
    "print(square)"
   ]
  },
  {
   "cell_type": "code",
   "execution_count": 104,
   "id": "415a59b5-df3d-4aec-86f1-7d0c06454331",
   "metadata": {},
   "outputs": [
    {
     "name": "stdout",
     "output_type": "stream",
     "text": [
      "[3, 6, 9, 12, 15, 18, 21, 24, 27, 30, 33, 36, 39]\n"
     ]
    }
   ],
   "source": [
    "# 19. Create a list of random numbers.\n",
    "random = []\n",
    "for i in range(1,40):\n",
    "    if i%3 == 0:\n",
    "        random.append(i)\n",
    "\n",
    "print(random)"
   ]
  },
  {
   "cell_type": "code",
   "execution_count": 105,
   "id": "46bf451c-4e6e-4f1a-afd4-0c5971264058",
   "metadata": {},
   "outputs": [
    {
     "name": "stdout",
     "output_type": "stream",
     "text": [
      "{1, 2, 3, 4, 5, 6, 7, 8, 9}\n"
     ]
    }
   ],
   "source": [
    "# 20. Remove duplicates from a list.\n",
    "a = [1,1,2,2,3,3,4,4,5,5,6,6,6,7,7,8,8,9,9]\n",
    "b = set(a) # converting the set to a list\n",
    "print(b)"
   ]
  },
  {
   "cell_type": "code",
   "execution_count": null,
   "id": "97fc7f94-798d-4ca1-bb21-fc57bfa445c8",
   "metadata": {},
   "outputs": [],
   "source": [
    "# 21. Find the common elements between two lists.\n",
    "a = [1,2,3,4,5,6]\n",
    "b = [5,6,7,8,9,1]\n",
    "comon = [i for i in a if i in b] # finding the i which is available in bot a and b\n",
    "print(comon)"
   ]
  },
  {
   "cell_type": "code",
   "execution_count": 106,
   "id": "adc9510d-b18a-4ac7-9bd7-dabb70dc9f99",
   "metadata": {},
   "outputs": [
    {
     "name": "stdout",
     "output_type": "stream",
     "text": [
      "[2, 3, 4, 7, 8, 9]\n"
     ]
    }
   ],
   "source": [
    "# 22. Find the difference between two lists.\n",
    "a = [1,2,3,4,5,6]\n",
    "b = [5,6,7,8,9,1]\n",
    "difference = [i for i in a if i not in b] + [i for i in b if i not in a]\n",
    "print(difference)"
   ]
  },
  {
   "cell_type": "code",
   "execution_count": 107,
   "id": "5043160e-29fb-47a0-8e03-f2fbf1ebb033",
   "metadata": {},
   "outputs": [
    {
     "name": "stdout",
     "output_type": "stream",
     "text": [
      "[1, 2, 3, 4, 5, 6, 5, 6, 7, 8, 9, 1]\n"
     ]
    }
   ],
   "source": [
    "# 23. Merge two lists.\n",
    "a = [1,2,3,4,5,6]\n",
    "b = [5,6,7,8,9,1]\n",
    "print(a+b)"
   ]
  },
  {
   "cell_type": "code",
   "execution_count": 108,
   "id": "e672dc57-b0a7-4d57-9f23-5a2fb6cca51a",
   "metadata": {},
   "outputs": [
    {
     "name": "stdout",
     "output_type": "stream",
     "text": [
      "1\n",
      "2\n",
      "3\n",
      "4\n",
      "5\n",
      "6\n"
     ]
    }
   ],
   "source": [
    "# 24. Multiply all elements in a list by 2.\n",
    "a = [1,2,3,4,5,6]\n",
    "for i in a :\n",
    "    i*2\n",
    "    print(i)"
   ]
  },
  {
   "cell_type": "code",
   "execution_count": 109,
   "id": "87e16861-33d1-489b-8508-8d5d60a1478a",
   "metadata": {},
   "outputs": [
    {
     "name": "stdout",
     "output_type": "stream",
     "text": [
      "2\n",
      "4\n",
      "6\n"
     ]
    }
   ],
   "source": [
    "# 25. Filter out all even numbers from a list.\n",
    "a = [1,2,3,4,5,6]\n",
    "for i in a:\n",
    "    if i%2==0:\n",
    "        print(i)"
   ]
  },
  {
   "cell_type": "code",
   "execution_count": 110,
   "id": "212df622-74c4-425d-8eaf-f209057d4b31",
   "metadata": {},
   "outputs": [
    {
     "name": "stdout",
     "output_type": "stream",
     "text": [
      "Modified list is : [1, 4, 3, 6, 7]\n"
     ]
    }
   ],
   "source": [
    "# 26. Convert a list of strings to a list of integers.\n",
    "test_list = ['1', '4', '3', '6', '7']\n",
    "\n",
    "# using map() to\n",
    "# perform conversion\n",
    "test_list = list(map(int, test_list)) # converting the list using map function\n",
    "\n",
    "# Printing modified list\n",
    "print(\"Modified list is : \" + str(test_list))"
   ]
  },
  {
   "cell_type": "code",
   "execution_count": 111,
   "id": "09724be8-0bc5-406d-b983-46443fb53f7d",
   "metadata": {},
   "outputs": [
    {
     "name": "stdout",
     "output_type": "stream",
     "text": [
      "Modified list is : ['1', '2', '3', '4', '5', '6', '78']\n"
     ]
    }
   ],
   "source": [
    "# 27. Convert a list of integers to a list of strings.\n",
    "\n",
    "test_list = [1,2,3,4,5,6,78]\n",
    "\n",
    "# using map() to\n",
    "# perform conversion\n",
    "test_list = list(map(str, test_list))\n",
    "\n",
    "# Printing modified list\n",
    "print(\"Modified list is : \" + str(test_list))"
   ]
  },
  {
   "cell_type": "code",
   "execution_count": 112,
   "id": "b8a20e2b-41fb-472d-879c-2d0eab1855af",
   "metadata": {},
   "outputs": [
    {
     "name": "stdout",
     "output_type": "stream",
     "text": [
      "[1, 2, 3, 4, 5, 6, 7]\n"
     ]
    }
   ],
   "source": [
    "# 28. Flatten a nested list.\n",
    "my_list = [[1], [2, 3], [4, 5, 6, 7]]\n",
    "flat = []\n",
    "for i in my_list: # runnin a for loop two times so that it can make one list\n",
    "    for num in i:\n",
    "        flat.append(num)\n",
    "\n",
    "print(flat)"
   ]
  },
  {
   "cell_type": "code",
   "execution_count": 113,
   "id": "b07af485-c857-4693-adf4-f85163167c9f",
   "metadata": {},
   "outputs": [
    {
     "data": {
      "text/plain": [
       "[1, 2, 3, 5, 8, 13, 21, 34, 55, 89]"
      ]
     },
     "execution_count": 113,
     "metadata": {},
     "output_type": "execute_result"
    }
   ],
   "source": [
    "# 29. Create a list of the first 10 Fibonacci numbers.\n",
    "f = 0\n",
    "sum = 1\n",
    "fib = [] # creating a empty list\n",
    "for x in range(1,11): # running a for loop \n",
    "        next = f + sum\n",
    "        fib.append(next) # adding the number to the list\n",
    "        f = sum # appointing f as num\n",
    "        sum = next # appointing Sum as next so that it can add another number\n",
    "fib"
   ]
  },
  {
   "cell_type": "code",
   "execution_count": 115,
   "id": "d04b56f7-3bf0-484c-b650-5f40eeac6645",
   "metadata": {},
   "outputs": [
    {
     "name": "stdout",
     "output_type": "stream",
     "text": [
      "sorted\n"
     ]
    }
   ],
   "source": [
    "# 30. Check if a list is sorted.\n",
    "a = [1, 2, 3, 5, 8, 13, 21, 34, 55, 89]\n",
    "b = a[:]\n",
    "b.sort()\n",
    "if a == b:\n",
    "        print('sorted')\n",
    "else:\n",
    "    print('not sorted')"
   ]
  },
  {
   "cell_type": "code",
   "execution_count": 116,
   "id": "af49feb3-a5f6-4edf-8fec-b517be002c84",
   "metadata": {},
   "outputs": [
    {
     "name": "stdout",
     "output_type": "stream",
     "text": [
      "[99, 65, 15, 6, 7]\n"
     ]
    }
   ],
   "source": [
    "# 31. Rotate a list to the left by `n` positions.\n",
    "a = [15,6,7,99,65]\n",
    "a = a[3:] + a[:3]\n",
    "print(a)"
   ]
  },
  {
   "cell_type": "code",
   "execution_count": 118,
   "id": "fea814d4",
   "metadata": {},
   "outputs": [
    {
     "name": "stdout",
     "output_type": "stream",
     "text": [
      "[7, 99, 65, 15, 6]\n"
     ]
    }
   ],
   "source": [
    "#32. Rotate a list to the right by `n` positions.\n",
    "c = [15,6,7,99,65]\n",
    "c = c[-3:] + c[:-3]\n",
    "print(c)"
   ]
  },
  {
   "cell_type": "code",
   "execution_count": 119,
   "id": "5d6ea162-700e-490b-9ea2-5003900abedb",
   "metadata": {},
   "outputs": [
    {
     "name": "stdout",
     "output_type": "stream",
     "text": [
      "[2, 3, 5, 7, 11, 13, 17, 19, 23, 29, 31, 37, 41, 43, 47]\n"
     ]
    }
   ],
   "source": [
    "# 33. Create a list of prime numbers up to 50.\n",
    "prime_list = [] # creating a empty list\n",
    "for i in range(1, 51): # running a forloop\n",
    "    for j in range(2, 51):\n",
    "        if i % j == 0: # checking that the number is not prime\n",
    "            break\n",
    "    if  i == j: # remaining numbers are prime\n",
    "        prime_list.append(i) #adding prime numbers to the list\n",
    "\n",
    "print(prime_list)"
   ]
  },
  {
   "cell_type": "code",
   "execution_count": 120,
   "id": "b790baeb-c7dd-478b-be04-dbe120a3cae7",
   "metadata": {},
   "outputs": [
    {
     "name": "stdout",
     "output_type": "stream",
     "text": [
      "[1, 2, 3]\n",
      "[4, 5, 6]\n",
      "[7, 8, 9]\n"
     ]
    }
   ],
   "source": [
    "# 34. Split a list into chunks of size `n`.\n",
    "my_list = [1, 2, 3, 4, 5,\n",
    "        6, 7, 8, 9]\n",
    "start = 0\n",
    "end = len(my_list)\n",
    "step = 3\n",
    "for i in range(start, end, step):\n",
    "\tx = i\n",
    "\tprint(my_list[x:x+step])"
   ]
  },
  {
   "cell_type": "code",
   "execution_count": 121,
   "id": "7321e138-29b4-4baa-ad2f-8c65d8b3c82e",
   "metadata": {},
   "outputs": [
    {
     "name": "stdout",
     "output_type": "stream",
     "text": [
      "8\n"
     ]
    }
   ],
   "source": [
    "# 35. Find the second largest number in a list.\n",
    "a = [1,2,3,4,5,6,7,8,9]\n",
    "a.sort() # sorting the list\n",
    "print(a[-2]) # printing the second last number after sorting"
   ]
  },
  {
   "cell_type": "code",
   "execution_count": 122,
   "id": "c88e09c8-f8ef-4224-94b1-95bce3d1f262",
   "metadata": {},
   "outputs": [
    {
     "name": "stdout",
     "output_type": "stream",
     "text": [
      "[1, 4, 9, 16, 25, 36, 49, 64, 81]\n"
     ]
    }
   ],
   "source": [
    "# 36. Replace every element in a list with its square.\n",
    "a = [1,2,3,4,5,6,7,8,9]\n",
    "square = []\n",
    "for i in a:\n",
    "    i = i*i\n",
    "    square.append(i)\n",
    "\n",
    "print(square)"
   ]
  },
  {
   "cell_type": "code",
   "execution_count": 125,
   "id": "5b1f9025-1f08-46ee-add1-3174df89d80c",
   "metadata": {},
   "outputs": [
    {
     "name": "stdout",
     "output_type": "stream",
     "text": [
      "{0: 'Ramesh', 1: 'Mahesh', 2: 'Kamlesh', 3: 'Suresh'}\n"
     ]
    }
   ],
   "source": [
    "# 37. Convert a list to a dictionary where list elements become keys and their\n",
    "# indices become values.\n",
    "employee_names = ['Ramesh', 'Mahesh', 'Kamlesh', 'Suresh']\n",
    "\n",
    "names_dict = {}\n",
    "for i, name in enumerate(employee_names):\n",
    "    names_dict[i] = name\n",
    "\n",
    "print(names_dict)"
   ]
  },
  {
   "cell_type": "code",
   "execution_count": 126,
   "id": "87db0669-5f84-46ea-afed-390a27478357",
   "metadata": {},
   "outputs": [
    {
     "name": "stdout",
     "output_type": "stream",
     "text": [
      "[7, 98, 9, 5, 1, 2, 4, 5, 63]\n"
     ]
    }
   ],
   "source": [
    "# 38. Shuffle the elements of a list randomly.\n",
    "a = [1,2,4,5,63,7,98,9,5]\n",
    "b = a[5:] + a[:5]\n",
    "print(b)"
   ]
  },
  {
   "cell_type": "code",
   "execution_count": 127,
   "id": "1a75dd8a-9004-4243-b854-c370d0f9bfbc",
   "metadata": {},
   "outputs": [
    {
     "name": "stdout",
     "output_type": "stream",
     "text": [
      "[1, 2, 6, 24, 120, 720, 5040, 40320, 362880, 3628800]\n"
     ]
    }
   ],
   "source": [
    "# 39. Create a list of the first 10 factorial numbers.\n",
    "fact1 = [] # creating a empty list\n",
    "fact = 1\n",
    "for i in range(1, 11): # running a for loop\n",
    "    fact = fact * i # multiplying i by fact\n",
    "    fact1.append(fact) # appending the number to the list \n",
    "\n",
    "print(fact1)"
   ]
  },
  {
   "cell_type": "code",
   "execution_count": 128,
   "id": "1c382ac4-9808-4f38-83a1-c0cd901348cb",
   "metadata": {},
   "outputs": [
    {
     "name": "stdout",
     "output_type": "stream",
     "text": [
      "True\n"
     ]
    }
   ],
   "source": [
    "# 40. Check if two lists have at least one element in common.\n",
    "a = [1,2,3,4]\n",
    "b= [4,5,6,7]\n",
    "for i in a:\n",
    "    if i in b:\n",
    "        print(True)\n",
    "        break\n",
    "\n",
    "    elif i not in a:\n",
    "        print(False)"
   ]
  },
  {
   "cell_type": "code",
   "execution_count": 129,
   "id": "66d5ce5d-955a-4807-ae7d-15600de5c826",
   "metadata": {},
   "outputs": [
    {
     "name": "stdout",
     "output_type": "stream",
     "text": [
      "[]\n"
     ]
    }
   ],
   "source": [
    "# 41. Remove all elements from a list.\n",
    "a = [1,2,3,4]\n",
    "a.clear()\n",
    "print(a)"
   ]
  },
  {
   "cell_type": "code",
   "execution_count": 130,
   "id": "c8d2d890-f497-4d84-aa25-3bce7ffb145f",
   "metadata": {},
   "outputs": [
    {
     "name": "stdout",
     "output_type": "stream",
     "text": [
      "[0, 0, 0, 56, 8, 9]\n"
     ]
    }
   ],
   "source": [
    "# 42. Replace negative numbers in a list with 0.\n",
    "a = [ -1,-2,-3,56,8,9]\n",
    "a = [0 if i < 0 else i for i in a]\n",
    "print(a)"
   ]
  },
  {
   "cell_type": "code",
   "execution_count": 131,
   "id": "53c91126-fee9-4112-99d3-5abf334fc407",
   "metadata": {},
   "outputs": [
    {
     "name": "stdout",
     "output_type": "stream",
     "text": [
      "['pwskills', 'is', 'the', 'best']\n"
     ]
    }
   ],
   "source": [
    "# 43. Convert a string into a list of words.\n",
    "a = \" pwskills is the best\"\n",
    "b = a.split()\n",
    "print(list(b))"
   ]
  },
  {
   "cell_type": "code",
   "execution_count": 132,
   "id": "d36d2a24-97eb-4726-b733-a0c517343442",
   "metadata": {},
   "outputs": [
    {
     "name": "stdout",
     "output_type": "stream",
     "text": [
      "pwskillsisthebest\n"
     ]
    }
   ],
   "source": [
    "# 44. Convert a list of words into a string.\n",
    "a = ['pwskills', 'is', 'the', 'best']\n",
    "b= \"\"\n",
    "for i in a:\n",
    "    b += i\n",
    "print(b)\n"
   ]
  },
  {
   "cell_type": "code",
   "execution_count": 133,
   "id": "eca398aa-cb99-48d2-bbfa-a4e324154532",
   "metadata": {},
   "outputs": [
    {
     "name": "stdout",
     "output_type": "stream",
     "text": [
      "enter number5\n",
      "[0, 1, 4, 9, 16]\n"
     ]
    }
   ],
   "source": [
    "# 45. Create a list of the first `n` powers of 2.\n",
    "a = []\n",
    "n = int(input(\"enter number\"))\n",
    "for i in range(n):\n",
    "    i = i*i\n",
    "    a.append(i)\n",
    "\n",
    "print(a)"
   ]
  },
  {
   "cell_type": "code",
   "execution_count": 137,
   "id": "e6922633-3f81-46dd-9b07-8652bc682c0b",
   "metadata": {},
   "outputs": [
    {
     "name": "stdout",
     "output_type": "stream",
     "text": [
      "pwskills data sceince pro\n"
     ]
    }
   ],
   "source": [
    "#46. Find the longest string in a list of strings.\n",
    "\n",
    "a = ['rishabh jaiswal','pwskills data sceince pro','hello world']\n",
    "max_len = 1 # specifying the max len\n",
    "for ele in a: # running a for loop\n",
    "    if len(ele) > max_len: # finding the biggest element that has more len the max len\n",
    "        max_len = len(ele) # specifying the len of that element as max len\n",
    "        res = ele # giving res as nam of max len element\n",
    "\n",
    "print(res)"
   ]
  },
  {
   "cell_type": "code",
   "execution_count": 138,
   "id": "83bc84ae-ccd8-4569-a4cd-e753b661f18b",
   "metadata": {},
   "outputs": [
    {
     "name": "stdout",
     "output_type": "stream",
     "text": [
      "hello world\n"
     ]
    }
   ],
   "source": [
    "# 47. Find the shortest string in a list of strings.\n",
    "a = ['rishabh jaiswal','pwskills data sceince pro','hello world']\n",
    "min_len = 1\n",
    "for ele in a:\n",
    "    if len(ele) < min_len:\n",
    "        min_len = len(ele)\n",
    "        b = ele\n",
    "\n",
    "print(ele)"
   ]
  },
  {
   "cell_type": "code",
   "execution_count": null,
   "id": "d3ff01bd-17ee-40e8-b5c8-eadc299880ad",
   "metadata": {},
   "outputs": [],
   "source": [
    "# 48. Create a list of the first `n` triangular numbers.\n",
    "k = 1\n",
    "j = 1\n",
    "a = []\n",
    "n = int(input(\"enter the number\"))\n",
    "for i in range(1, n + 1):\n",
    "    a.append(k)\n",
    "    j = j + 1  # Increasing j by 1\n",
    "\n",
    "    # Add value of j into k and update k\n",
    "    k = k + j\n",
    "print(a)"
   ]
  },
  {
   "cell_type": "code",
   "execution_count": 1,
   "id": "80d85856-aa16-4254-ad32-a442bb4d1ef8",
   "metadata": {},
   "outputs": [
    {
     "name": "stdout",
     "output_type": "stream",
     "text": [
      "No, list is not subset of other.\n"
     ]
    }
   ],
   "source": [
    "# 49. Check if a list contains another list as a subsequence.\n",
    "a = [1,2,3,4,5,6,7,8,9]\n",
    "b = [15,12]\n",
    "flag = 0\n",
    "if (all(x in a for x in b)):\n",
    "    flag = 1\n",
    "\n",
    "# printing result\n",
    "if (flag):\n",
    "    print(\"Yes, list is subset of other.\")\n",
    "else:\n",
    "    print(\"No, list is not subset of other.\")"
   ]
  },
  {
   "cell_type": "code",
   "execution_count": 2,
   "id": "0801da59-0d01-46a2-9c23-69e5ce736b8d",
   "metadata": {},
   "outputs": [
    {
     "name": "stdout",
     "output_type": "stream",
     "text": [
      "[1, 6, 3, 4, 5, 2, 7, 8, 9]\n"
     ]
    }
   ],
   "source": [
    "# 50. Swap two elements in a list by their indices.\n",
    "\n",
    "a = [1,2,3,4,5,6,7,8,9]\n",
    "a[1],a[5] = a[5],a[1]\n",
    "print(a)"
   ]
  },
  {
   "cell_type": "code",
   "execution_count": 3,
   "id": "3d9a27d9",
   "metadata": {},
   "outputs": [
    {
     "name": "stdout",
     "output_type": "stream",
     "text": [
      "(1, 2, 3, 4, 5)\n"
     ]
    }
   ],
   "source": [
    "#         Tuple based questions\n",
    "\n",
    "# 1. Create a tuple with integers from 1 to 5.\n",
    "a = (1,2,3,4,5)\n",
    "print(a)"
   ]
  },
  {
   "cell_type": "code",
   "execution_count": 4,
   "id": "0b2d29e0",
   "metadata": {},
   "outputs": [
    {
     "name": "stdout",
     "output_type": "stream",
     "text": [
      "3\n"
     ]
    }
   ],
   "source": [
    "# 2. Access the third element of a tuple.\n",
    "a = (1,2,3,4,5)\n",
    "print(a[2])"
   ]
  },
  {
   "cell_type": "code",
   "execution_count": 5,
   "id": "dab68900",
   "metadata": {},
   "outputs": [
    {
     "name": "stdout",
     "output_type": "stream",
     "text": [
      "5\n"
     ]
    }
   ],
   "source": [
    "# 3. Find the length of a tuple without using the `len()` function.\n",
    "a = (1,2,3,4,5)\n",
    "count = 0\n",
    "for i in a:\n",
    "    count +=1\n",
    "\n",
    "print(count)"
   ]
  },
  {
   "cell_type": "code",
   "execution_count": 7,
   "id": "aec56dd3",
   "metadata": {},
   "outputs": [
    {
     "name": "stdout",
     "output_type": "stream",
     "text": [
      "1\n"
     ]
    }
   ],
   "source": [
    "# 4. Count the occurrences of an element in a tuple.\n",
    "a = (1,2,3,4,5,4,6,7,8,9,2,3,1)\n",
    "print(a.count(5)) # counting the occurence of an element using count function"
   ]
  },
  {
   "cell_type": "code",
   "execution_count": 8,
   "id": "aa7e86f1",
   "metadata": {},
   "outputs": [
    {
     "name": "stdout",
     "output_type": "stream",
     "text": [
      "4\n"
     ]
    }
   ],
   "source": [
    "# 5. Find the index of the first occurrence of an element in a tuple.\n",
    "a = (1,2,3,4,5,4,6,7,8,9,2,3,1)\n",
    "print(a.index(5))"
   ]
  },
  {
   "cell_type": "code",
   "execution_count": 9,
   "id": "0c6151b7",
   "metadata": {},
   "outputs": [
    {
     "name": "stdout",
     "output_type": "stream",
     "text": [
      "False\n"
     ]
    }
   ],
   "source": [
    "# 6. Check if an element exists in a tuple.\n",
    "a = (1,2,3,4,5,4,6,7,8,9,2,3,1)\n",
    "print(a.__contains__(10))"
   ]
  },
  {
   "cell_type": "code",
   "execution_count": 10,
   "id": "8ece07e6",
   "metadata": {},
   "outputs": [
    {
     "name": "stdout",
     "output_type": "stream",
     "text": [
      "[1, 2, 3, 4, 5, 4, 6, 7, 8, 9, 2, 3, 1]\n"
     ]
    }
   ],
   "source": [
    "# 7. Convert a tuple to a list.\n",
    "a = (1,2,3,4,5,4,6,7,8,9,2,3,1)\n",
    "print(list(a))"
   ]
  },
  {
   "cell_type": "code",
   "execution_count": 11,
   "id": "1ddf9b31",
   "metadata": {},
   "outputs": [
    {
     "name": "stdout",
     "output_type": "stream",
     "text": [
      "(1, 2, 3, 4, 5, 4, 6, 7, 8, 9, 2, 3, 1)\n"
     ]
    }
   ],
   "source": [
    "# 8. Convert a list to a tuple.\n",
    "# a = [1, 2, 3, 4, 5, 4, 6, 7, 8, 9, 2, 3, 1]\n",
    "b = tuple(a)\n",
    "print(b)"
   ]
  },
  {
   "cell_type": "code",
   "execution_count": 13,
   "id": "a1de76cf",
   "metadata": {},
   "outputs": [
    {
     "name": "stdout",
     "output_type": "stream",
     "text": [
      "mit mandsaur\n",
      "rishabh jaiswal\n",
      "engineering\n"
     ]
    }
   ],
   "source": [
    "# 9. Unpack the elements of a tuple into variables.\n",
    "a = ('mit mandsaur','rishabh jaiswal','engineering')\n",
    "(college,name,branch) = a\n",
    "print(college)\n",
    "print(name)\n",
    "print(branch)"
   ]
  },
  {
   "cell_type": "code",
   "execution_count": null,
   "id": "bf6a7fa7",
   "metadata": {},
   "outputs": [],
   "source": [
    "# 10. Create a tuple of even numbers from 1 to 10.\n",
    "# a = []\n",
    "# for i in range(1,11):\n",
    "#     if i%2==0:\n",
    "#         a.append(i)\n",
    "#\n",
    "# b = tuple(a)\n",
    "# print(b)"
   ]
  },
  {
   "cell_type": "code",
   "execution_count": 14,
   "id": "33fafe06",
   "metadata": {},
   "outputs": [
    {
     "name": "stdout",
     "output_type": "stream",
     "text": [
      "(1, 3, 5, 7, 9)\n"
     ]
    }
   ],
   "source": [
    "# 11. Create a tuple of odd numbers from 1 to 10.\n",
    "a = []\n",
    "for i in range(1,11):\n",
    "    if i%2!=0:\n",
    "        a.append(i)\n",
    "\n",
    "b = tuple(a)\n",
    "print(b)"
   ]
  },
  {
   "cell_type": "code",
   "execution_count": 15,
   "id": "693658a1",
   "metadata": {},
   "outputs": [
    {
     "name": "stdout",
     "output_type": "stream",
     "text": [
      "rishabh jaiswalpwskills\n"
     ]
    }
   ],
   "source": [
    "# 12. Concatenate two tuples.\n",
    "a = ('rishabh jaiswal')\n",
    "b = ('pwskills')\n",
    "print(a+b)"
   ]
  },
  {
   "cell_type": "code",
   "execution_count": 16,
   "id": "4dfe11ee",
   "metadata": {},
   "outputs": [
    {
     "name": "stdout",
     "output_type": "stream",
     "text": [
      "rishabh rishabh rishabh \n"
     ]
    }
   ],
   "source": [
    "# 13. Repeat a tuple three times.\n",
    "a = 'rishabh '\n",
    "print(a*3)"
   ]
  },
  {
   "cell_type": "code",
   "execution_count": 17,
   "id": "f96ffc6a",
   "metadata": {},
   "outputs": [
    {
     "name": "stdout",
     "output_type": "stream",
     "text": [
      "empty\n"
     ]
    }
   ],
   "source": [
    "# 14. Check if a tuple is empty.\n",
    "a = ()\n",
    "if len(a) == 0:\n",
    "    print(\"empty\")"
   ]
  },
  {
   "cell_type": "code",
   "execution_count": 18,
   "id": "80a497d9",
   "metadata": {},
   "outputs": [
    {
     "name": "stdout",
     "output_type": "stream",
     "text": [
      "((3, 4), (5, 6))\n"
     ]
    }
   ],
   "source": [
    "# 15. Create a nested tuple.\n",
    "# initialize tuples\n",
    "# a = (3, 4),\n",
    "b = (5, 6),\n",
    "c = a+b\n",
    "# print(str(c))"
   ]
  },
  {
   "cell_type": "code",
   "execution_count": 19,
   "id": "108868da",
   "metadata": {},
   "outputs": [
    {
     "name": "stdout",
     "output_type": "stream",
     "text": [
      "((3, 4), (5, 6))\n",
      "(3, 4)\n"
     ]
    }
   ],
   "source": [
    "# 16. Access the first element of a nested tuple.\n",
    "a = (3, 4),\n",
    "b = (5, 6),\n",
    "c = a+b\n",
    "print(str(c))\n",
    "print(c[0])"
   ]
  },
  {
   "cell_type": "code",
   "execution_count": 20,
   "id": "dcbb448b",
   "metadata": {},
   "outputs": [
    {
     "name": "stdout",
     "output_type": "stream",
     "text": [
      "1\n"
     ]
    }
   ],
   "source": [
    "# 17. Create a tuple with a single element.\n",
    "a = (1)\n",
    "print(a)"
   ]
  },
  {
   "cell_type": "code",
   "execution_count": 21,
   "id": "8063f016",
   "metadata": {},
   "outputs": [
    {
     "name": "stdout",
     "output_type": "stream",
     "text": [
      "equal\n"
     ]
    }
   ],
   "source": [
    "# 18. Compare two tuples.\n",
    "a = (1,2,3,4)\n",
    "b = (5,7,8,9)\n",
    "if len(a) == len(b):\n",
    "    print('equal')\n",
    "else:\n",
    "    print(\"not equal\")"
   ]
  },
  {
   "cell_type": "code",
   "execution_count": 22,
   "id": "df36426a",
   "metadata": {},
   "outputs": [],
   "source": [
    "# 19. Delete a tuple.\n",
    "a = (1,2,3,4)\n",
    "del a"
   ]
  },
  {
   "cell_type": "code",
   "execution_count": 23,
   "id": "d16beab3",
   "metadata": {},
   "outputs": [
    {
     "name": "stdout",
     "output_type": "stream",
     "text": [
      "(1, 2)\n"
     ]
    }
   ],
   "source": [
    "# 20. Slice a tuple.\n",
    "a = (1,2,3,4)\n",
    "print(a[0:2])"
   ]
  },
  {
   "cell_type": "code",
   "execution_count": 24,
   "id": "43f19136",
   "metadata": {},
   "outputs": [
    {
     "name": "stdout",
     "output_type": "stream",
     "text": [
      "4\n"
     ]
    }
   ],
   "source": [
    "# 21. Find the maximum value in a tuple.\n",
    "a = (1,2,3,4)\n",
    "print(max(a))"
   ]
  },
  {
   "cell_type": "code",
   "execution_count": 25,
   "id": "d017d379",
   "metadata": {},
   "outputs": [
    {
     "name": "stdout",
     "output_type": "stream",
     "text": [
      "1\n"
     ]
    }
   ],
   "source": [
    "# 22. Find the minimum value in a tuple.\n",
    "a = (1,2,3,4)\n",
    "print(min(a))"
   ]
  },
  {
   "cell_type": "code",
   "execution_count": 26,
   "id": "693fa6ca",
   "metadata": {},
   "outputs": [
    {
     "name": "stdout",
     "output_type": "stream",
     "text": [
      "('r', 'i', 's', 'h', 'a', 'b', 'h')\n"
     ]
    }
   ],
   "source": [
    "# 23. Convert a string to a tuple of characters.\n",
    "a = 'rishabh'\n",
    "b = tuple(a)\n",
    "print(b)"
   ]
  },
  {
   "cell_type": "code",
   "execution_count": 27,
   "id": "330afe2f",
   "metadata": {},
   "outputs": [
    {
     "name": "stdout",
     "output_type": "stream",
     "text": [
      "r,i,s,h,a,b,h\n"
     ]
    }
   ],
   "source": [
    "# 24. Convert a tuple of characters to a string.\n",
    "a = ('r,i,s,h,a,b,h')\n",
    "b = str(a)\n",
    "print(b)"
   ]
  },
  {
   "cell_type": "code",
   "execution_count": 28,
   "id": "41ec3b74",
   "metadata": {},
   "outputs": [
    {
     "name": "stdout",
     "output_type": "stream",
     "text": [
      "('rishabh', 12345, True, 0.556)\n"
     ]
    }
   ],
   "source": [
    "# 25. Create a tuple from multiple data types.\n",
    "a = ('rishabh',12345,True,0.556)\n",
    "print(a)"
   ]
  },
  {
   "cell_type": "code",
   "execution_count": 29,
   "id": "7a009db5",
   "metadata": {},
   "outputs": [
    {
     "name": "stdout",
     "output_type": "stream",
     "text": [
      "non identical\n"
     ]
    }
   ],
   "source": [
    "# 26. Check if two tuples are identical.\n",
    "a = (1,2,3,4)\n",
    "b = (3,6,8,9)\n",
    "if  a==b:\n",
    "    print('identical')\n",
    "else:\n",
    "    print('non identical')"
   ]
  },
  {
   "cell_type": "code",
   "execution_count": 30,
   "id": "c998a6a0",
   "metadata": {},
   "outputs": [
    {
     "name": "stdout",
     "output_type": "stream",
     "text": [
      "[3, 6, 8, 9, 10]\n"
     ]
    }
   ],
   "source": [
    "# 27. Sort the elements of a tuple.\n",
    "b = (3,6,10,8,9)\n",
    "a = list(b)\n",
    "a.sort()\n",
    "print(a)"
   ]
  },
  {
   "cell_type": "code",
   "execution_count": 31,
   "id": "ca26e5c0",
   "metadata": {},
   "outputs": [
    {
     "name": "stdout",
     "output_type": "stream",
     "text": [
      "(3, 6, 10, 8, 9)\n"
     ]
    }
   ],
   "source": [
    "# 28. Convert a tuple of integers to a tuple of strings.\n",
    "b = (3,6,10,8,9)\n",
    "a = str(b)\n",
    "print(a)"
   ]
  },
  {
   "cell_type": "code",
   "execution_count": 32,
   "id": "cbce2654",
   "metadata": {},
   "outputs": [
    {
     "name": "stdout",
     "output_type": "stream",
     "text": [
      "8349981509\n"
     ]
    }
   ],
   "source": [
    "# 29. Convert a tuple of strings to a tuple of integers.\n",
    "a = (\"8349981509\")\n",
    "b= int(a)\n",
    "print(b)"
   ]
  },
  {
   "cell_type": "code",
   "execution_count": null,
   "id": "d6251435",
   "metadata": {},
   "outputs": [],
   "source": [
    "# 30. Merge two tuples.\n",
    "a = ('rishabh')\n",
    "b = ('jaiswal')\n",
    "print(a + \" \" + b)"
   ]
  },
  {
   "cell_type": "code",
   "execution_count": 33,
   "id": "adf5543e",
   "metadata": {},
   "outputs": [
    {
     "name": "stdout",
     "output_type": "stream",
     "text": [
      "(4, 7, 4, 5, 6, 7, 7, 6)\n"
     ]
    }
   ],
   "source": [
    "# 31. Flatten a nested tuple.\n",
    "a = ((4, 7), ((4, 5), ((6, 7), (7, 6))))\n",
    "def flatten_tuples(t): # making a function flatten tuple\n",
    "    for x in t: # running a for loop for each element\n",
    "        if isinstance(x, tuple): # if element is a tuple \n",
    "            yield from flatten_tuples(x) # returnig it to the function \n",
    "        else:\n",
    "            yield x\n",
    "\n",
    "print(tuple(flatten_tuples(a)))"
   ]
  },
  {
   "cell_type": "code",
   "execution_count": 34,
   "id": "87bfb789",
   "metadata": {},
   "outputs": [
    {
     "name": "stdout",
     "output_type": "stream",
     "text": [
      "(2, 3, 5, 7, 11)\n"
     ]
    }
   ],
   "source": [
    "# 32. Create a tuple of the first 5 prime numbers.\n",
    "prime_list = ()\n",
    "for i in range(1, 51):\n",
    "    for j in range(2, 51):\n",
    "        if i % j == 0:\n",
    "            break\n",
    "    if  i == j:\n",
    "        prime_list = prime_list + (i,)\n",
    "\n",
    "print(prime_list[:5])"
   ]
  },
  {
   "cell_type": "code",
   "execution_count": 35,
   "id": "62ba104b",
   "metadata": {},
   "outputs": [
    {
     "name": "stdout",
     "output_type": "stream",
     "text": [
      "not palindrome\n"
     ]
    }
   ],
   "source": [
    "# 33. Check if a tuple is a palindrome.\n",
    "a = ('rishabh')\n",
    "if a[::] == a[-1::-1]: # checking if the orignal string is uqual to its reverse string\n",
    "    print('palindrome')\n",
    "else:\n",
    "    print('not palindrome')"
   ]
  },
  {
   "cell_type": "code",
   "execution_count": 36,
   "id": "f0036cce",
   "metadata": {},
   "outputs": [
    {
     "name": "stdout",
     "output_type": "stream",
     "text": [
      "(1, 4, 9, 16, 25)\n"
     ]
    }
   ],
   "source": [
    "# 34. Create a tuple of squares of numbers from 1 to 5.\n",
    "square = ()\n",
    "for i in range(1,6):\n",
    "    square = square + (i*i,)\n",
    "print(square)"
   ]
  },
  {
   "cell_type": "code",
   "execution_count": 37,
   "id": "d1e6566b",
   "metadata": {},
   "outputs": [
    {
     "name": "stdout",
     "output_type": "stream",
     "text": [
      "(2, 4, 6, 8, 10)\n"
     ]
    }
   ],
   "source": [
    "# 35. Filter out all even numbers from a tuple.\n",
    "a = (1,2,3,4,5,6,7,8,9,10)\n",
    "b = ()\n",
    "for i in a:\n",
    "    if i%2==0:\n",
    "        b = b + (i,)\n",
    "\n",
    "print(b)"
   ]
  },
  {
   "cell_type": "code",
   "execution_count": 38,
   "id": "dcfefb6c",
   "metadata": {},
   "outputs": [
    {
     "name": "stdout",
     "output_type": "stream",
     "text": [
      "2\n",
      "4\n",
      "6\n",
      "8\n",
      "10\n",
      "12\n",
      "14\n",
      "16\n",
      "18\n",
      "20\n"
     ]
    }
   ],
   "source": [
    "# 36. Multiply all elements in a tuple by 2.\n",
    "a = (1,2,3,4,5,6,7,8,9,10)\n",
    "for i in a:\n",
    "    i = i*2\n",
    "    print(i)"
   ]
  },
  {
   "cell_type": "code",
   "execution_count": 39,
   "id": "ac730bfa",
   "metadata": {},
   "outputs": [
    {
     "name": "stdout",
     "output_type": "stream",
     "text": [
      "(-1, 0.68, 20000)\n"
     ]
    }
   ],
   "source": [
    "# 37. Create a tuple of random numbers.\n",
    "a = (-1,0.68,20000)\n",
    "print(a)"
   ]
  },
  {
   "cell_type": "code",
   "execution_count": 40,
   "id": "43955540",
   "metadata": {},
   "outputs": [
    {
     "name": "stdout",
     "output_type": "stream",
     "text": [
      "False\n"
     ]
    }
   ],
   "source": [
    "# 38. Check if a tuple is sorted.\n",
    "# create a tuple\n",
    "t = (1, 4, 3, 5, 2)\n",
    "# check if tuple is sorted\n",
    "print(t == tuple(sorted(t)))"
   ]
  },
  {
   "cell_type": "code",
   "execution_count": 41,
   "id": "c46ddd13",
   "metadata": {},
   "outputs": [
    {
     "name": "stdout",
     "output_type": "stream",
     "text": [
      "(5, 2, 1, 4, 3)\n"
     ]
    }
   ],
   "source": [
    "# 39. Rotate a tuple to the left by `n` positions.\n",
    "t = (1, 4, 3, 5, 2)\n",
    "a = t[3:] + t[:-2]\n",
    "print(a)"
   ]
  },
  {
   "cell_type": "code",
   "execution_count": 42,
   "id": "2950e7cf",
   "metadata": {},
   "outputs": [
    {
     "name": "stdout",
     "output_type": "stream",
     "text": [
      "(1, 4, 3, 5, 2)\n"
     ]
    }
   ],
   "source": [
    "# 40. Rotate a tuple to the right by `n` positions.\n",
    "a = (5, 2, 1, 4, 3)\n",
    "n = a[2:] + a[:-3]\n",
    "print(n)"
   ]
  },
  {
   "cell_type": "code",
   "execution_count": 43,
   "id": "a78a4708",
   "metadata": {},
   "outputs": [
    {
     "name": "stdout",
     "output_type": "stream",
     "text": [
      "(1, 2, 3, 5, 8, 13)\n"
     ]
    }
   ],
   "source": [
    "# 41. Create a tuple of the first 5 Fibonacci numbers.\n",
    "f = 0\n",
    "sum = 1\n",
    "a = ()\n",
    "for x in range(0,6):\n",
    "        next = f + sum\n",
    "        a= a+ (next,)\n",
    "        f = sum\n",
    "        sum = next\n",
    "\n",
    "print(a)"
   ]
  },
  {
   "cell_type": "code",
   "execution_count": 46,
   "id": "a75021e8",
   "metadata": {},
   "outputs": [
    {
     "name": "stdout",
     "output_type": "stream",
     "text": [
      "enter a tuple123456\n",
      "('1', '2', '3', '4', '5', '6')\n"
     ]
    }
   ],
   "source": [
    "# 42. Create a tuple from user input.\n",
    "a = tuple(input(\"enter a tuple\"))\n",
    "print(a)"
   ]
  },
  {
   "cell_type": "code",
   "execution_count": 47,
   "id": "54cc06ca",
   "metadata": {},
   "outputs": [
    {
     "name": "stdout",
     "output_type": "stream",
     "text": [
      "(1, 3, 2)\n"
     ]
    }
   ],
   "source": [
    "# 43. Swap two elements in a tuple.\n",
    "# create a tuple\n",
    "t = (1, 2, 3)\n",
    "# convert the tuple to list\n",
    "ls = list(t)\n",
    "# swap the elements in the list using their index\n",
    "ls[1], ls[2] = ls[2], ls[1]\n",
    "# create a new tuple from the list elements\n",
    "new_t = tuple(ls)\n",
    "# print the new tuple\n",
    "print(new_t)"
   ]
  },
  {
   "cell_type": "code",
   "execution_count": 48,
   "id": "b85fe195",
   "metadata": {},
   "outputs": [
    {
     "name": "stdout",
     "output_type": "stream",
     "text": [
      "(3, 2, 1)\n"
     ]
    }
   ],
   "source": [
    "# 44. Reverse the elements of a tuple.\n",
    "t = (1, 2, 3)\n",
    "a = t[::-1]\n",
    "print(a)"
   ]
  },
  {
   "cell_type": "code",
   "execution_count": 49,
   "id": "2c81c6b8",
   "metadata": {},
   "outputs": [
    {
     "name": "stdout",
     "output_type": "stream",
     "text": [
      "(1, 4, 9, 16, 25)\n"
     ]
    }
   ],
   "source": [
    "# 45. Create a tuple of the first `n` powers of 2.\n",
    "n = ()\n",
    "for i in range(1,6):\n",
    "    i = i *i\n",
    "    n = n + (i,)\n",
    "print(n)"
   ]
  },
  {
   "cell_type": "code",
   "execution_count": 50,
   "id": "efaa0032",
   "metadata": {},
   "outputs": [
    {
     "name": "stdout",
     "output_type": "stream",
     "text": [
      "pwskills data sceince pro\n"
     ]
    }
   ],
   "source": [
    "# 46. Find the longest string in a tuple of strings.\n",
    "a = ('rishabh jaiswal','pwskills data sceince pro','hello world')\n",
    "max_len = 1\n",
    "for ele in a:\n",
    "    if len(ele) > max_len:\n",
    "        max_len = len(ele)\n",
    "        res = ele\n",
    "\n",
    "print(res)"
   ]
  },
  {
   "cell_type": "code",
   "execution_count": 51,
   "id": "39724163",
   "metadata": {},
   "outputs": [
    {
     "name": "stdout",
     "output_type": "stream",
     "text": [
      "rj\n"
     ]
    }
   ],
   "source": [
    "# 47. Find the shortest string in a tuple of strings.\n",
    "a = ('rishabh jaiswal','pwskills data sceince pro','hello world','rj')\n",
    "min_len = 1\n",
    "for ele in a:\n",
    "    if len(ele) < min_len:\n",
    "        min_len = len(ele)\n",
    "print(ele)"
   ]
  },
  {
   "cell_type": "code",
   "execution_count": 52,
   "id": "629e9d62",
   "metadata": {},
   "outputs": [
    {
     "name": "stdout",
     "output_type": "stream",
     "text": [
      "enter the number5\n",
      "(1, 3, 6, 10, 15)\n"
     ]
    }
   ],
   "source": [
    "# # 48. Create a tuple of the first `n` triangular numbers.\n",
    "j = 1\n",
    "k = 1\n",
    "a = ()\n",
    "n = int(input(\"enter the number\"))\n",
    "for i in range(1, n + 1):\n",
    "    a = a + (k,)\n",
    "    j = j + 1  # Increasing j by 1\n",
    "\n",
    "    # Add value of j into k and update k\n",
    "    k = k + j\n",
    "print(a)"
   ]
  },
  {
   "cell_type": "code",
   "execution_count": 53,
   "id": "e4efd4c5",
   "metadata": {},
   "outputs": [
    {
     "name": "stdout",
     "output_type": "stream",
     "text": [
      "No, list is not subset of other.\n"
     ]
    }
   ],
   "source": [
    "# 49. Check if a tuple contains another tuple as a subsequence.\n",
    "a = (1,2,3,4,5,6,7,8,9)\n",
    "b = (15,12)\n",
    "flag = 0\n",
    "if (all(x in a for x in b)):\n",
    "    flag = 1\n",
    "\n",
    "# printing result\n",
    "if (flag):\n",
    "    print(\"Yes, list is subset of other.\")\n",
    "else:\n",
    "    print(\"No, list is not subset of other.\")"
   ]
  },
  {
   "cell_type": "code",
   "execution_count": 54,
   "id": "7528a5a5",
   "metadata": {},
   "outputs": [
    {
     "name": "stdout",
     "output_type": "stream",
     "text": [
      "(1, 0, 1, 0, 1, 0, 1)\n"
     ]
    }
   ],
   "source": [
    "# 50. Create a tuple of alternating 1s and 0s of length `n`\n",
    "result = ()\n",
    "length = 7\n",
    "\n",
    "# iterating\n",
    "for i in range(length):\n",
    "   # checking the index\n",
    "   if i % 2 == 0:\n",
    "      # appending 1 on even index\n",
    "      result = result + (1,)\n",
    "   else:\n",
    "      # appending 0 on odd index\n",
    "      result = result + (0,)\n",
    "\n",
    "# printing the result\n",
    "print(result)"
   ]
  },
  {
   "cell_type": "code",
   "execution_count": 55,
   "id": "270661d6",
   "metadata": {},
   "outputs": [
    {
     "name": "stdout",
     "output_type": "stream",
     "text": [
      "{1, 2, 3, 4, 5}\n"
     ]
    }
   ],
   "source": [
    "# set based questions\n",
    "\n",
    "# 1. Create a set with integers from 1 to 5.\n",
    "a = {1,2,3,4,5}\n",
    "print(a)"
   ]
  },
  {
   "cell_type": "code",
   "execution_count": 56,
   "id": "c6f58fae",
   "metadata": {},
   "outputs": [
    {
     "name": "stdout",
     "output_type": "stream",
     "text": [
      "{1, 2, 3, 4, 5, 6}\n"
     ]
    }
   ],
   "source": [
    "# 2. Add an element to a set.\n",
    "a = {1,2,3,4,5}\n",
    "a.add(6)\n",
    "print(a)"
   ]
  },
  {
   "cell_type": "code",
   "execution_count": 57,
   "id": "6f1dec11",
   "metadata": {},
   "outputs": [
    {
     "name": "stdout",
     "output_type": "stream",
     "text": [
      "{1, 2, 3, 4}\n"
     ]
    }
   ],
   "source": [
    "# 3. Remove an element from a set.\n",
    "a = {1,2,3,4,5}\n",
    "a.remove(5)\n",
    "print(a)"
   ]
  },
  {
   "cell_type": "code",
   "execution_count": 58,
   "id": "972650fe",
   "metadata": {},
   "outputs": [
    {
     "name": "stdout",
     "output_type": "stream",
     "text": [
      "True\n"
     ]
    }
   ],
   "source": [
    "# 4. Check if an element exists in a set.\n",
    "a = {1,2,3,4,5}\n",
    "print(a.__contains__(5))"
   ]
  },
  {
   "cell_type": "code",
   "execution_count": 59,
   "id": "64e23786",
   "metadata": {},
   "outputs": [
    {
     "name": "stdout",
     "output_type": "stream",
     "text": [
      "10\n"
     ]
    }
   ],
   "source": [
    "# 5. Find the length of a set without using the `len()` function.\n",
    "a = {1,2,3,4,5,6,7,8,9,10}\n",
    "count = 0\n",
    "for i in a:\n",
    "    count += 1\n",
    "print(count)"
   ]
  },
  {
   "cell_type": "code",
   "execution_count": 60,
   "id": "60e9591f",
   "metadata": {},
   "outputs": [
    {
     "name": "stdout",
     "output_type": "stream",
     "text": [
      "set()\n"
     ]
    }
   ],
   "source": [
    "# 6. Clear all elements from a set.\n",
    "a = {1,2,3,4,5,6,7,8,9,10}\n",
    "a.clear()\n",
    "print(a)"
   ]
  },
  {
   "cell_type": "code",
   "execution_count": 61,
   "id": "0ca524aa",
   "metadata": {},
   "outputs": [
    {
     "name": "stdout",
     "output_type": "stream",
     "text": [
      "{0, 2, 4, 6, 8, 10}\n"
     ]
    }
   ],
   "source": [
    "# 7. Create a set of even numbers from 1 to 10.\n",
    "a = {0}\n",
    "for i in range(1,11):\n",
    "    if i%2==0:\n",
    "        a.add(i)\n",
    "\n",
    "print(a)"
   ]
  },
  {
   "cell_type": "code",
   "execution_count": 62,
   "id": "93e175b5",
   "metadata": {},
   "outputs": [
    {
     "name": "stdout",
     "output_type": "stream",
     "text": [
      "{1, 3, 5, 7, 9}\n"
     ]
    }
   ],
   "source": [
    "# 8. Create a set of odd numbers from 1 to 10.\n",
    "a = set()\n",
    "for i in range(1,11):\n",
    "    if i%2!=0:\n",
    "        a.add(i)\n",
    "\n",
    "print(a)"
   ]
  },
  {
   "cell_type": "code",
   "execution_count": 63,
   "id": "bdba34f4",
   "metadata": {},
   "outputs": [
    {
     "name": "stdout",
     "output_type": "stream",
     "text": [
      "{1, 2, 3, 4, 5, 6, 7, 8}\n"
     ]
    }
   ],
   "source": [
    "# 9. Find the union of two sets.\n",
    "a = {1,2,3,4,5}\n",
    "b = {4,5,6,7,8}\n",
    "print(a.union(b))"
   ]
  },
  {
   "cell_type": "code",
   "execution_count": 64,
   "id": "805ffc6c",
   "metadata": {},
   "outputs": [
    {
     "name": "stdout",
     "output_type": "stream",
     "text": [
      "{4, 5}\n"
     ]
    }
   ],
   "source": [
    "# 10. Find the intersection of two sets.\n",
    "a = {1,2,3,4,5}\n",
    "b = {4,5,6,7,8}\n",
    "print(a.intersection(b))"
   ]
  },
  {
   "cell_type": "code",
   "execution_count": 65,
   "id": "09800c90",
   "metadata": {},
   "outputs": [
    {
     "name": "stdout",
     "output_type": "stream",
     "text": [
      "{1, 2, 3}\n"
     ]
    }
   ],
   "source": [
    "# 11. Find the difference between two sets.\n",
    "a = {1,2,3,4,5}\n",
    "b = {4,5,6,7,8}\n",
    "print(a.difference(b))"
   ]
  },
  {
   "cell_type": "code",
   "execution_count": 66,
   "id": "d906e264",
   "metadata": {},
   "outputs": [
    {
     "name": "stdout",
     "output_type": "stream",
     "text": [
      "False\n"
     ]
    }
   ],
   "source": [
    "# 12. Check if a set is a subset of another set.\n",
    "a = {1,2,3,4,5}\n",
    "b = {4,5,6,7,8}\n",
    "print(a.issubset(b))"
   ]
  },
  {
   "cell_type": "code",
   "execution_count": 67,
   "id": "9f49b4f2",
   "metadata": {},
   "outputs": [
    {
     "name": "stdout",
     "output_type": "stream",
     "text": [
      "False\n"
     ]
    }
   ],
   "source": [
    "# 13. Check if a set is a superset of another set.\n",
    "a = {1,2,3,4,5}\n",
    "b = {4,5,6,7,8}\n",
    "print(a.issuperset(b))"
   ]
  },
  {
   "cell_type": "code",
   "execution_count": 68,
   "id": "7eefc1df",
   "metadata": {},
   "outputs": [
    {
     "name": "stdout",
     "output_type": "stream",
     "text": [
      "{1, 2, 3, 4, 56}\n"
     ]
    }
   ],
   "source": [
    "# 14. Create a set from a list.\n",
    "a = [1,2,3,2,3,4,56,2]\n",
    "b = set()\n",
    "for i in a :\n",
    "    b.add(i)\n",
    "print(b)"
   ]
  },
  {
   "cell_type": "code",
   "execution_count": 69,
   "id": "600531da",
   "metadata": {},
   "outputs": [
    {
     "name": "stdout",
     "output_type": "stream",
     "text": [
      "{1, 2, 3, 6, 9, 45, 78}\n"
     ]
    }
   ],
   "source": [
    "# 15. Convert a set to a list.\n",
    "a = [1,2,3,45,6,78,9,2]\n",
    "b = set(a)\n",
    "print(b)"
   ]
  },
  {
   "cell_type": "code",
   "execution_count": 70,
   "id": "5f7c430b",
   "metadata": {},
   "outputs": [
    {
     "name": "stdout",
     "output_type": "stream",
     "text": [
      "{1, 2, 3, 6, 9, 45}\n"
     ]
    }
   ],
   "source": [
    "# 16. Remove a random element from a set.\n",
    "a = {1,2,3,45,6,78,9,2}\n",
    "a.remove(78)\n",
    "print(a)"
   ]
  },
  {
   "cell_type": "code",
   "execution_count": 71,
   "id": "d75a4fa1",
   "metadata": {},
   "outputs": [
    {
     "name": "stdout",
     "output_type": "stream",
     "text": [
      "{2, 3, 6, 9, 45, 78}\n"
     ]
    }
   ],
   "source": [
    "# 17. Pop an element from a set.\n",
    "a = {1,2,3,45,6,78,9,2}\n",
    "a.pop()\n",
    "print(a)"
   ]
  },
  {
   "cell_type": "code",
   "execution_count": 72,
   "id": "90021356",
   "metadata": {},
   "outputs": [
    {
     "name": "stdout",
     "output_type": "stream",
     "text": [
      "True\n"
     ]
    }
   ],
   "source": [
    "# 18. Check if two sets have no elements in common.\n",
    "a = {1,2,3,4,5}\n",
    "b = {4,5,6,7,8}\n",
    "if a.intersection(b): # checking if a and b have elements in common using intersection\n",
    "    print(True)\n",
    "else:\n",
    "    print(False)"
   ]
  },
  {
   "cell_type": "code",
   "execution_count": 73,
   "id": "fec920d1",
   "metadata": {},
   "outputs": [
    {
     "name": "stdout",
     "output_type": "stream",
     "text": [
      "{1, 2, 3, 6, 7, 8}\n"
     ]
    }
   ],
   "source": [
    "# 19. Find the symmetric difference between two sets.\n",
    "a = {1,2,3,4,5}\n",
    "b = {4,5,6,7,8}\n",
    "print(a.symmetric_difference(b))"
   ]
  },
  {
   "cell_type": "code",
   "execution_count": 74,
   "id": "54ee5244",
   "metadata": {},
   "outputs": [
    {
     "name": "stdout",
     "output_type": "stream",
     "text": [
      "{1, 2, 3, 4, 5, 6, 7, 8}\n"
     ]
    }
   ],
   "source": [
    "# 20. Update a set with elements from another set.\n",
    "a = {1,2,3,4,5}\n",
    "b = {4,5,6,7,8}\n",
    "a.update(b)\n",
    "print(a)"
   ]
  },
  {
   "cell_type": "code",
   "execution_count": 75,
   "id": "66a09d25",
   "metadata": {},
   "outputs": [
    {
     "name": "stdout",
     "output_type": "stream",
     "text": [
      "{2, 3, 5, 7, 11}\n"
     ]
    }
   ],
   "source": [
    "# 21. Create a set of the first 5 prime numbers.\n",
    "a = set()\n",
    "for i in range(1,12):\n",
    "    for j in range(2,12):\n",
    "        if i%j==0:\n",
    "            break\n",
    "    if i == j :\n",
    "        a.add(i)\n",
    "print(a)"
   ]
  },
  {
   "cell_type": "code",
   "execution_count": 76,
   "id": "9dea920c",
   "metadata": {},
   "outputs": [
    {
     "name": "stdout",
     "output_type": "stream",
     "text": [
      "True\n"
     ]
    }
   ],
   "source": [
    "# 22. Check if two sets are identical.\n",
    "a = {1,2,3}\n",
    "b = {1,2,3}\n",
    "if a == b:\n",
    "    print(True)\n",
    "else:\n",
    "    print(False)"
   ]
  },
  {
   "cell_type": "code",
   "execution_count": 77,
   "id": "bc31db3f",
   "metadata": {},
   "outputs": [
    {
     "name": "stdout",
     "output_type": "stream",
     "text": [
      "frozenset({1, 2, 3, 4})\n"
     ]
    }
   ],
   "source": [
    "# 23. Create a frozen set.\n",
    "a = {1,2,3,4}\n",
    "b = frozenset(a)\n",
    "print(b)"
   ]
  },
  {
   "cell_type": "code",
   "execution_count": 78,
   "id": "053b45c7",
   "metadata": {},
   "outputs": [
    {
     "name": "stdout",
     "output_type": "stream",
     "text": [
      "False\n"
     ]
    }
   ],
   "source": [
    "# 24. Check if a set is disjoint with another set.\n",
    "a = {1,2,3,4,5}\n",
    "b = {4,5,6,7,8}\n",
    "print(a.isdisjoint(b))"
   ]
  },
  {
   "cell_type": "code",
   "execution_count": 79,
   "id": "0b883f0c",
   "metadata": {},
   "outputs": [
    {
     "name": "stdout",
     "output_type": "stream",
     "text": [
      "{1, 4, 9, 16, 25}\n"
     ]
    }
   ],
   "source": [
    "# # 25. Create a set of squares of numbers from 1 to 5.\n",
    "a = set()\n",
    "for i in range(1,6):\n",
    "    i = i*i\n",
    "    a.add(i)\n",
    "\n",
    "print(a)"
   ]
  },
  {
   "cell_type": "code",
   "execution_count": 80,
   "id": "43a89c14",
   "metadata": {},
   "outputs": [
    {
     "name": "stdout",
     "output_type": "stream",
     "text": [
      "2\n",
      "4\n",
      "6\n",
      "20\n"
     ]
    }
   ],
   "source": [
    "# 26. Filter out all even numbers from a set.\n",
    "a = {1,2,3,4,5,6,7,.9,20}\n",
    "for i in a:\n",
    "    if i%2==0:\n",
    "        print(i)"
   ]
  },
  {
   "cell_type": "code",
   "execution_count": 81,
   "id": "e78557eb",
   "metadata": {},
   "outputs": [
    {
     "name": "stdout",
     "output_type": "stream",
     "text": [
      "2\n",
      "4\n",
      "6\n",
      "8\n"
     ]
    }
   ],
   "source": [
    "# 27. Multiply all elements in a set by 2.\n",
    "a = {1,2,3,4}\n",
    "for i in a:\n",
    "    i = i*2\n",
    "    print(i)"
   ]
  },
  {
   "cell_type": "code",
   "execution_count": 82,
   "id": "09cc5e78",
   "metadata": {},
   "outputs": [
    {
     "name": "stdout",
     "output_type": "stream",
     "text": [
      "{0.95, 1, 2, 3, 4, 500, -50}\n"
     ]
    }
   ],
   "source": [
    "# 28. Create a set of random numbers.\n",
    "a = {1,2,3,4,500,.95,-50,}\n",
    "print(a)"
   ]
  },
  {
   "cell_type": "code",
   "execution_count": 83,
   "id": "65eeaad1",
   "metadata": {},
   "outputs": [
    {
     "name": "stdout",
     "output_type": "stream",
     "text": [
      "not empty\n"
     ]
    }
   ],
   "source": [
    "# 29. Check if a set is empty.\n",
    "a = {1}\n",
    "if len(a)<=0:\n",
    "    print('Emtyset')\n",
    "else:\n",
    "    print('not empty')"
   ]
  },
  {
   "cell_type": "code",
   "execution_count": 85,
   "id": "29ebf5e3",
   "metadata": {},
   "outputs": [
    {
     "name": "stdout",
     "output_type": "stream",
     "text": [
      "{frozenset({3, 4}), frozenset({1, 2})}\n"
     ]
    }
   ],
   "source": [
    "# 30. Create a nested set (hint: use frozenset).\n",
    "s = set([frozenset([1,2]), frozenset([3,4])])\n",
    "print(s)"
   ]
  },
  {
   "cell_type": "code",
   "execution_count": 86,
   "id": "be3364fe",
   "metadata": {},
   "outputs": [
    {
     "name": "stdout",
     "output_type": "stream",
     "text": [
      "{1, 2}\n"
     ]
    }
   ],
   "source": [
    "# 31. Remove an element from a set using the discard method.\n",
    "a = {1,2,3}\n",
    "a.discard(3)\n",
    "print(a)"
   ]
  },
  {
   "cell_type": "code",
   "execution_count": 87,
   "id": "d77483b1",
   "metadata": {},
   "outputs": [
    {
     "name": "stdout",
     "output_type": "stream",
     "text": [
      "not equal\n"
     ]
    }
   ],
   "source": [
    "# 32. Compare two sets.\n",
    "a = {1,2,3,4}\n",
    "b = {1,2,3}\n",
    "if len(a)==len(b):\n",
    "    print('equal')\n",
    "else:\n",
    "    print('not equal')"
   ]
  },
  {
   "cell_type": "code",
   "execution_count": 91,
   "id": "2da79e0d",
   "metadata": {},
   "outputs": [
    {
     "data": {
      "text/plain": [
       "{'1', '2', '3', '4', '5', '6'}"
      ]
     },
     "execution_count": 91,
     "metadata": {},
     "output_type": "execute_result"
    }
   ],
   "source": [
    "# 33. Create a set from a string.\n",
    "a = \"123456\"\n",
    "b = set()\n",
    "for i in a:\n",
    "    b.add(i)\n",
    "b"
   ]
  },
  {
   "cell_type": "code",
   "execution_count": 92,
   "id": "66cc3195",
   "metadata": {},
   "outputs": [
    {
     "name": "stdout",
     "output_type": "stream",
     "text": [
      "{123}\n"
     ]
    }
   ],
   "source": [
    "# 34. Convert a set of strings to a set of integers.\n",
    "a = {'123'}\n",
    "b = set()\n",
    "for i in a:\n",
    "    i = int(i)\n",
    "    b.add(i)\n",
    "print(b)"
   ]
  },
  {
   "cell_type": "code",
   "execution_count": 93,
   "id": "342ad98f",
   "metadata": {},
   "outputs": [
    {
     "name": "stdout",
     "output_type": "stream",
     "text": [
      "{'123'}\n"
     ]
    }
   ],
   "source": [
    "# 35. Convert a set of integers to a set of strings.\n",
    "a = {123}\n",
    "b = set()\n",
    "for i in a:\n",
    "    i = str(i)\n",
    "    b.add(i)\n",
    "print(b)"
   ]
  },
  {
   "cell_type": "code",
   "execution_count": 94,
   "id": "7f916b5b",
   "metadata": {},
   "outputs": [
    {
     "name": "stdout",
     "output_type": "stream",
     "text": [
      "{'s', 'b', 'a', 'r', 'i', 'h'}\n"
     ]
    }
   ],
   "source": [
    "# 36. Create a set from a tuple.\n",
    "a = ('rishabh')\n",
    "b = set()\n",
    "for i in a:\n",
    "    b.add(i)\n",
    "print(b)"
   ]
  },
  {
   "cell_type": "code",
   "execution_count": 95,
   "id": "f4127f05",
   "metadata": {},
   "outputs": [
    {
     "name": "stdout",
     "output_type": "stream",
     "text": [
      "(1, 2, 3)\n"
     ]
    }
   ],
   "source": [
    "# 37. Convert a set to a tuple.\n",
    "a = {1,2,3}\n",
    "b = tuple(a)\n",
    "print(b)"
   ]
  },
  {
   "cell_type": "code",
   "execution_count": 96,
   "id": "b388749b",
   "metadata": {},
   "outputs": [
    {
     "name": "stdout",
     "output_type": "stream",
     "text": [
      "3\n"
     ]
    }
   ],
   "source": [
    "# 38. Find the maximum value in a set.\n",
    "a = {1,2,3}\n",
    "print(max(a))"
   ]
  },
  {
   "cell_type": "code",
   "execution_count": 97,
   "id": "be2fd5cf",
   "metadata": {},
   "outputs": [
    {
     "name": "stdout",
     "output_type": "stream",
     "text": [
      "1\n"
     ]
    }
   ],
   "source": [
    "# 39. Find the minimum value in a set.\n",
    "a = {1,2,3}\n",
    "print(min(a))"
   ]
  },
  {
   "cell_type": "code",
   "execution_count": 98,
   "id": "46a507ef",
   "metadata": {},
   "outputs": [
    {
     "name": "stdout",
     "output_type": "stream",
     "text": [
      "enter 123456789\n",
      "{'9', '2', '8', '7', '5', '1', '4', '3', '6'}\n"
     ]
    }
   ],
   "source": [
    "# 40. Create a set from user input.\n",
    "a = set(input(\"enter \"))\n",
    "print(a)"
   ]
  },
  {
   "cell_type": "code",
   "execution_count": 99,
   "id": "6edd86a0",
   "metadata": {},
   "outputs": [
    {
     "name": "stdout",
     "output_type": "stream",
     "text": [
      "0\n"
     ]
    }
   ],
   "source": [
    "# 41. Check if the intersection of two sets is empty.\n",
    "a = {1,2,3,4}\n",
    "b = {5,7,8}\n",
    "c = a.intersection(b)\n",
    "print(len(c))"
   ]
  },
  {
   "cell_type": "code",
   "execution_count": 100,
   "id": "eb6401e0",
   "metadata": {},
   "outputs": [
    {
     "name": "stdout",
     "output_type": "stream",
     "text": [
      "{1, 2, 3, 5, 8}\n"
     ]
    }
   ],
   "source": [
    "# 42. Create a set of the first 5 Fibonacci numbers.\n",
    "f = 0\n",
    "sum = 1\n",
    "a = set()\n",
    "for x in range(1,6):\n",
    "        next = f + sum\n",
    "        a.add(next)\n",
    "        f = sum\n",
    "        sum = next\n",
    "\n",
    "print(a)"
   ]
  },
  {
   "cell_type": "code",
   "execution_count": 101,
   "id": "5ab15ece",
   "metadata": {},
   "outputs": [
    {
     "name": "stdout",
     "output_type": "stream",
     "text": [
      "{1, 2, 3, 4, 5, 6, 7, 8, 9}\n"
     ]
    }
   ],
   "source": [
    "# 43. Remove duplicates from a list using sets.\n",
    "a = [1,1,1,2,2,3,3,3,4,4,4,5,6,6,6,5,5,7,7,8,9,9,8,8]\n",
    "b = set(a)\n",
    "print(b)"
   ]
  },
  {
   "cell_type": "code",
   "execution_count": 102,
   "id": "5996c899",
   "metadata": {},
   "outputs": [
    {
     "name": "stdout",
     "output_type": "stream",
     "text": [
      "True\n"
     ]
    }
   ],
   "source": [
    "# 44. Check if two sets have the same elements, regardless of their count.\n",
    "a = {5,6,2,3,8,91,5}\n",
    "b = {2,2,5,5,8,91,6,3}\n",
    "print(sorted(a) == sorted(b))"
   ]
  },
  {
   "cell_type": "code",
   "execution_count": 103,
   "id": "9c23f2de",
   "metadata": {},
   "outputs": [
    {
     "name": "stdout",
     "output_type": "stream",
     "text": [
      "enter number5\n",
      "{0, 1, 4, 9, 16}\n"
     ]
    }
   ],
   "source": [
    "# 45. Create a set of the first `n` powers of 2.\n",
    "a = set()\n",
    "n = int(input(\"enter number\"))\n",
    "for i in range(n):\n",
    "    i = i*i\n",
    "    a.add(i)\n",
    "\n",
    "print(a)"
   ]
  },
  {
   "cell_type": "code",
   "execution_count": 104,
   "id": "ef8905ff",
   "metadata": {},
   "outputs": [
    {
     "name": "stdout",
     "output_type": "stream",
     "text": [
      "{3, 5}\n"
     ]
    }
   ],
   "source": [
    "# 46. Find the common elements between a set and a list.\n",
    "a = {1,2,3,4,5}\n",
    "b = [3,5,6,7]\n",
    "print(a.intersection(b))"
   ]
  },
  {
   "cell_type": "code",
   "execution_count": 105,
   "id": "76b6fbe3",
   "metadata": {},
   "outputs": [
    {
     "name": "stdout",
     "output_type": "stream",
     "text": [
      "enter the number6\n",
      "{1, 3, 6, 10, 15, 21}\n"
     ]
    }
   ],
   "source": [
    "# 47. Create a set of the first `n` triangular numbers.\n",
    "j = 1\n",
    "k = 1\n",
    "a = set()\n",
    "n = int(input(\"enter the number\"))\n",
    "for i in range(1, n + 1):\n",
    "    a.add(k)\n",
    "    j = j + 1  # Increasing j by 1\n",
    "\n",
    "    # Add value of j into k and update k\n",
    "    k = k + j\n",
    "print(a)"
   ]
  },
  {
   "cell_type": "code",
   "execution_count": 106,
   "id": "de020192",
   "metadata": {},
   "outputs": [
    {
     "name": "stdout",
     "output_type": "stream",
     "text": [
      "True\n"
     ]
    }
   ],
   "source": [
    "# 48. Check if a set contains another set as a subset.\n",
    "a = {1,2,3,4,5,6,89,9}\n",
    "b = {1,2,3}\n",
    "print(b.issubset(a))"
   ]
  },
  {
   "cell_type": "code",
   "execution_count": 107,
   "id": "a7667adf",
   "metadata": {},
   "outputs": [
    {
     "name": "stdout",
     "output_type": "stream",
     "text": [
      "{0, 1}\n"
     ]
    }
   ],
   "source": [
    "# 49. `Create a set of alternating 1s and 0s of length `n.\n",
    "result = ()\n",
    "length = 7\n",
    "\n",
    "# # iterating\n",
    "for i in range(length):\n",
    "    # checking the index\n",
    "   if i % 2 == 0:\n",
    "      # appending 1 on even index\n",
    "      result = result + (1,)\n",
    "   else:\n",
    "       # appending 0 on odd index\n",
    "      result = result + (0,)\n",
    "\n",
    "# # printing the result\n",
    "print(set(result))"
   ]
  },
  {
   "cell_type": "code",
   "execution_count": 108,
   "id": "b6da77f1",
   "metadata": {},
   "outputs": [
    {
     "name": "stdout",
     "output_type": "stream",
     "text": [
      "{1, 2, 3, 4, 5, 6, 7, 8, 9, 10, 11}\n"
     ]
    }
   ],
   "source": [
    "# 50. Merge multiple sets into one.\n",
    "a = {1,2,3,4}\n",
    "b = {4,5,6,7}\n",
    "c = {8,9,10,11}\n",
    "print(a.union(b,c))"
   ]
  },
  {
   "cell_type": "code",
   "execution_count": null,
   "id": "8cc464f4",
   "metadata": {},
   "outputs": [],
   "source": []
  }
 ],
 "metadata": {
  "kernelspec": {
   "display_name": "Python 3 (ipykernel)",
   "language": "python",
   "name": "python3"
  },
  "language_info": {
   "codemirror_mode": {
    "name": "ipython",
    "version": 3
   },
   "file_extension": ".py",
   "mimetype": "text/x-python",
   "name": "python",
   "nbconvert_exporter": "python",
   "pygments_lexer": "ipython3",
   "version": "3.11.4"
  }
 },
 "nbformat": 4,
 "nbformat_minor": 5
}
